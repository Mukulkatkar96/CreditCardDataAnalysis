{
 "cells": [
  {
   "cell_type": "code",
   "execution_count": 1,
   "id": "04abbbbd-13e5-4824-b46b-5746c431d130",
   "metadata": {},
   "outputs": [],
   "source": [
    "import pandas as pd"
   ]
  },
  {
   "cell_type": "code",
   "execution_count": 2,
   "id": "1b251d82-38c5-40ee-90c9-2503536bbbd1",
   "metadata": {},
   "outputs": [],
   "source": [
    "df_cust=pd.read_csv(\"customers.csv\")"
   ]
  },
  {
   "cell_type": "code",
   "execution_count": 3,
   "id": "f870b0f9-a88a-491f-8b72-bc3aec456a1f",
   "metadata": {},
   "outputs": [],
   "source": [
    "df_trans=pd.read_csv(\"transactions.csv\")"
   ]
  },
  {
   "cell_type": "code",
   "execution_count": 4,
   "id": "4b5f0f5a-8bb1-4932-ad2f-ac4ddc2723aa",
   "metadata": {},
   "outputs": [],
   "source": [
    "df_cs=pd.read_csv(\"credit_profiles.csv\")"
   ]
  },
  {
   "cell_type": "code",
   "execution_count": 5,
   "id": "abb2f943-b121-4087-a4f3-29646b45a976",
   "metadata": {},
   "outputs": [
    {
     "data": {
      "text/plain": [
       "(500000, 7)"
      ]
     },
     "execution_count": 5,
     "metadata": {},
     "output_type": "execute_result"
    }
   ],
   "source": [
    "df_trans.shape"
   ]
  },
  {
   "cell_type": "code",
   "execution_count": 6,
   "id": "368925cb-c65d-46a4-bbee-06188c486f57",
   "metadata": {},
   "outputs": [],
   "source": [
    "# Handling null values"
   ]
  },
  {
   "cell_type": "code",
   "execution_count": 7,
   "id": "188d693c-c9e9-4720-b3de-d0b081282fe0",
   "metadata": {},
   "outputs": [
    {
     "data": {
      "text/html": [
       "<div>\n",
       "<style scoped>\n",
       "    .dataframe tbody tr th:only-of-type {\n",
       "        vertical-align: middle;\n",
       "    }\n",
       "\n",
       "    .dataframe tbody tr th {\n",
       "        vertical-align: top;\n",
       "    }\n",
       "\n",
       "    .dataframe thead th {\n",
       "        text-align: right;\n",
       "    }\n",
       "</style>\n",
       "<table border=\"1\" class=\"dataframe\">\n",
       "  <thead>\n",
       "    <tr style=\"text-align: right;\">\n",
       "      <th></th>\n",
       "      <th>cust_id</th>\n",
       "      <th>name</th>\n",
       "      <th>gender</th>\n",
       "      <th>age</th>\n",
       "      <th>location</th>\n",
       "      <th>occupation</th>\n",
       "      <th>annual_income</th>\n",
       "      <th>marital_status</th>\n",
       "    </tr>\n",
       "  </thead>\n",
       "  <tbody>\n",
       "    <tr>\n",
       "      <th>0</th>\n",
       "      <td>1</td>\n",
       "      <td>Manya Acharya</td>\n",
       "      <td>Female</td>\n",
       "      <td>2</td>\n",
       "      <td>City</td>\n",
       "      <td>Business Owner</td>\n",
       "      <td>358211.0</td>\n",
       "      <td>Married</td>\n",
       "    </tr>\n",
       "    <tr>\n",
       "      <th>1</th>\n",
       "      <td>2</td>\n",
       "      <td>Anjali Pandey</td>\n",
       "      <td>Female</td>\n",
       "      <td>47</td>\n",
       "      <td>City</td>\n",
       "      <td>Consultant</td>\n",
       "      <td>65172.0</td>\n",
       "      <td>Single</td>\n",
       "    </tr>\n",
       "    <tr>\n",
       "      <th>2</th>\n",
       "      <td>3</td>\n",
       "      <td>Aaryan Chauhan</td>\n",
       "      <td>Male</td>\n",
       "      <td>21</td>\n",
       "      <td>City</td>\n",
       "      <td>Freelancer</td>\n",
       "      <td>22378.0</td>\n",
       "      <td>Married</td>\n",
       "    </tr>\n",
       "    <tr>\n",
       "      <th>3</th>\n",
       "      <td>4</td>\n",
       "      <td>Rudra Bali</td>\n",
       "      <td>Male</td>\n",
       "      <td>24</td>\n",
       "      <td>Rural</td>\n",
       "      <td>Freelancer</td>\n",
       "      <td>33563.0</td>\n",
       "      <td>Married</td>\n",
       "    </tr>\n",
       "    <tr>\n",
       "      <th>4</th>\n",
       "      <td>5</td>\n",
       "      <td>Advait Malik</td>\n",
       "      <td>Male</td>\n",
       "      <td>48</td>\n",
       "      <td>City</td>\n",
       "      <td>Consultant</td>\n",
       "      <td>39406.0</td>\n",
       "      <td>Married</td>\n",
       "    </tr>\n",
       "  </tbody>\n",
       "</table>\n",
       "</div>"
      ],
      "text/plain": [
       "   cust_id            name  gender  age location      occupation  \\\n",
       "0        1   Manya Acharya  Female    2     City  Business Owner   \n",
       "1        2   Anjali Pandey  Female   47     City      Consultant   \n",
       "2        3  Aaryan Chauhan    Male   21     City      Freelancer   \n",
       "3        4      Rudra Bali    Male   24    Rural      Freelancer   \n",
       "4        5    Advait Malik    Male   48     City      Consultant   \n",
       "\n",
       "   annual_income marital_status  \n",
       "0       358211.0        Married  \n",
       "1        65172.0         Single  \n",
       "2        22378.0        Married  \n",
       "3        33563.0        Married  \n",
       "4        39406.0        Married  "
      ]
     },
     "execution_count": 7,
     "metadata": {},
     "output_type": "execute_result"
    }
   ],
   "source": [
    "df_cust.head()"
   ]
  },
  {
   "cell_type": "code",
   "execution_count": 8,
   "id": "4992725c-b641-47f5-8815-06b9b299d6a6",
   "metadata": {},
   "outputs": [
    {
     "data": {
      "text/plain": [
       "cust_id            0\n",
       "name               0\n",
       "gender             0\n",
       "age                0\n",
       "location           0\n",
       "occupation         0\n",
       "annual_income     50\n",
       "marital_status     0\n",
       "dtype: int64"
      ]
     },
     "execution_count": 8,
     "metadata": {},
     "output_type": "execute_result"
    }
   ],
   "source": [
    "df_cust.isnull().sum()"
   ]
  },
  {
   "cell_type": "code",
   "execution_count": 9,
   "id": "dc146e9a-2bdc-4842-a6f2-bd8b88870e82",
   "metadata": {},
   "outputs": [
    {
     "data": {
      "text/plain": [
       "139410.31473684212"
      ]
     },
     "execution_count": 9,
     "metadata": {},
     "output_type": "execute_result"
    }
   ],
   "source": [
    "df_cust.annual_income.mean()"
   ]
  },
  {
   "cell_type": "code",
   "execution_count": 10,
   "id": "2735dbc0-d33d-4650-a8c8-33b0136791bc",
   "metadata": {},
   "outputs": [],
   "source": [
    "# we will replace null values with median as per thire ocuupation"
   ]
  },
  {
   "cell_type": "code",
   "execution_count": 11,
   "id": "c6ea295c-fd7c-4e7d-9c8d-835e6ed707d2",
   "metadata": {},
   "outputs": [
    {
     "data": {
      "text/plain": [
       "45794.0"
      ]
     },
     "execution_count": 11,
     "metadata": {},
     "output_type": "execute_result"
    }
   ],
   "source": [
    "df_cust[df_cust.occupation==\"Artist\"].annual_income.median()"
   ]
  },
  {
   "cell_type": "code",
   "execution_count": 12,
   "id": "128efb8d-66e2-4775-907d-764a62893b26",
   "metadata": {},
   "outputs": [
    {
     "data": {
      "text/plain": [
       "occupation\n",
       "Accountant              65265.0\n",
       "Artist                  45794.0\n",
       "Business Owner         261191.5\n",
       "Consultant              58017.0\n",
       "Data Scientist         135759.0\n",
       "Freelancer              46759.0\n",
       "Fullstack Developer     76774.0\n",
       "Name: annual_income, dtype: float64"
      ]
     },
     "execution_count": 12,
     "metadata": {},
     "output_type": "execute_result"
    }
   ],
   "source": [
    "occupation_wise_inc_median = df_cust.groupby(\"occupation\")[\"annual_income\"].median() \n",
    "occupation_wise_inc_median"
   ]
  },
  {
   "cell_type": "code",
   "execution_count": 13,
   "id": "922bffb3-0681-42da-b5e7-e3d2ee5ec92e",
   "metadata": {},
   "outputs": [
    {
     "data": {
      "text/plain": [
       "45794.0"
      ]
     },
     "execution_count": 13,
     "metadata": {},
     "output_type": "execute_result"
    }
   ],
   "source": [
    "occupation_wise_inc_median['Artist']"
   ]
  },
  {
   "cell_type": "code",
   "execution_count": 14,
   "id": "cc6f7e6a-c08c-4dea-944a-da09864e5355",
   "metadata": {},
   "outputs": [],
   "source": [
    "# same for every occupation using lambda function"
   ]
  },
  {
   "cell_type": "code",
   "execution_count": 15,
   "id": "b1184c07-672c-4cb9-a6de-0aa4d597edb8",
   "metadata": {},
   "outputs": [],
   "source": [
    "df_cust[\"annual_income\"] = df_cust.apply( \n",
    "    lambda row: occupation_wise_inc_median [row['occupation']] if pd.isnull(row[\"annual_income\"]) else row['annual_income'] \n",
    "    ,axis=1 )"
   ]
  },
  {
   "cell_type": "code",
   "execution_count": 16,
   "id": "9b980023-db2c-4805-a00b-3828958efc0d",
   "metadata": {},
   "outputs": [
    {
     "data": {
      "text/plain": [
       "cust_id           0\n",
       "name              0\n",
       "gender            0\n",
       "age               0\n",
       "location          0\n",
       "occupation        0\n",
       "annual_income     0\n",
       "marital_status    0\n",
       "dtype: int64"
      ]
     },
     "execution_count": 16,
     "metadata": {},
     "output_type": "execute_result"
    }
   ],
   "source": [
    "df_cust.isnull().sum()"
   ]
  },
  {
   "cell_type": "code",
   "execution_count": 17,
   "id": "cf248c7d-76ed-48cc-8451-4cd51b5a2a4a",
   "metadata": {},
   "outputs": [],
   "source": [
    "import seaborn as sns\n",
    "import matplotlib.pyplot as plt"
   ]
  },
  {
   "cell_type": "code",
   "execution_count": 18,
   "id": "50535f54-4921-42e1-a242-d446032b648b",
   "metadata": {},
   "outputs": [
    {
     "data": {
      "text/plain": [
       "<seaborn.axisgrid.FacetGrid at 0x16619d040>"
      ]
     },
     "execution_count": 18,
     "metadata": {},
     "output_type": "execute_result"
    },
    {
     "data": {
      "image/png": "[encoded data removed]",
      "text/plain": [
       "<Figure size 500x500 with 1 Axes>"
      ]
     },
     "metadata": {},
     "output_type": "display_data"
    }
   ],
   "source": [
    "# Distribution plot \n",
    "sns.displot(data=df_cust.annual_income)"
   ]
  },
  {
   "cell_type": "code",
   "execution_count": 19,
   "id": "1127fbef-7dd4-427c-907e-33d530e4ceda",
   "metadata": {},
   "outputs": [],
   "source": [
    " # As we can see above data is right skewed which is expected for income"
   ]
  },
  {
   "cell_type": "markdown",
   "id": "4651dea7-099c-455f-9ebe-b1f9f05b819d",
   "metadata": {},
   "source": [
    "Outlier detection and removal"
   ]
  },
  {
   "cell_type": "code",
   "execution_count": 21,
   "id": "9f0fbac6-9c7a-483b-9b36-eaa99e404a59",
   "metadata": {},
   "outputs": [
    {
     "data": {
      "text/html": [
       "<div>\n",
       "<style scoped>\n",
       "    .dataframe tbody tr th:only-of-type {\n",
       "        vertical-align: middle;\n",
       "    }\n",
       "\n",
       "    .dataframe tbody tr th {\n",
       "        vertical-align: top;\n",
       "    }\n",
       "\n",
       "    .dataframe thead th {\n",
       "        text-align: right;\n",
       "    }\n",
       "</style>\n",
       "<table border=\"1\" class=\"dataframe\">\n",
       "  <thead>\n",
       "    <tr style=\"text-align: right;\">\n",
       "      <th></th>\n",
       "      <th>cust_id</th>\n",
       "      <th>name</th>\n",
       "      <th>gender</th>\n",
       "      <th>age</th>\n",
       "      <th>location</th>\n",
       "      <th>occupation</th>\n",
       "      <th>annual_income</th>\n",
       "      <th>marital_status</th>\n",
       "    </tr>\n",
       "  </thead>\n",
       "  <tbody>\n",
       "    <tr>\n",
       "      <th>31</th>\n",
       "      <td>32</td>\n",
       "      <td>Veer Mistry</td>\n",
       "      <td>Male</td>\n",
       "      <td>50</td>\n",
       "      <td>City</td>\n",
       "      <td>Business Owner</td>\n",
       "      <td>50.0</td>\n",
       "      <td>Married</td>\n",
       "    </tr>\n",
       "    <tr>\n",
       "      <th>262</th>\n",
       "      <td>263</td>\n",
       "      <td>Vivaan Tandon</td>\n",
       "      <td>Male</td>\n",
       "      <td>53</td>\n",
       "      <td>Suburb</td>\n",
       "      <td>Business Owner</td>\n",
       "      <td>50.0</td>\n",
       "      <td>Married</td>\n",
       "    </tr>\n",
       "    <tr>\n",
       "      <th>316</th>\n",
       "      <td>317</td>\n",
       "      <td>Yuvraj Saxena</td>\n",
       "      <td>Male</td>\n",
       "      <td>47</td>\n",
       "      <td>City</td>\n",
       "      <td>Consultant</td>\n",
       "      <td>50.0</td>\n",
       "      <td>Married</td>\n",
       "    </tr>\n",
       "    <tr>\n",
       "      <th>333</th>\n",
       "      <td>334</td>\n",
       "      <td>Avani Khanna</td>\n",
       "      <td>Female</td>\n",
       "      <td>29</td>\n",
       "      <td>City</td>\n",
       "      <td>Data Scientist</td>\n",
       "      <td>50.0</td>\n",
       "      <td>Married</td>\n",
       "    </tr>\n",
       "    <tr>\n",
       "      <th>340</th>\n",
       "      <td>341</td>\n",
       "      <td>Priya Sinha</td>\n",
       "      <td>Female</td>\n",
       "      <td>33</td>\n",
       "      <td>Rural</td>\n",
       "      <td>Fullstack Developer</td>\n",
       "      <td>50.0</td>\n",
       "      <td>Married</td>\n",
       "    </tr>\n",
       "    <tr>\n",
       "      <th>543</th>\n",
       "      <td>544</td>\n",
       "      <td>Advait Batra</td>\n",
       "      <td>Male</td>\n",
       "      <td>54</td>\n",
       "      <td>City</td>\n",
       "      <td>Consultant</td>\n",
       "      <td>2.0</td>\n",
       "      <td>Married</td>\n",
       "    </tr>\n",
       "    <tr>\n",
       "      <th>592</th>\n",
       "      <td>593</td>\n",
       "      <td>Priya Gandhi</td>\n",
       "      <td>Female</td>\n",
       "      <td>32</td>\n",
       "      <td>City</td>\n",
       "      <td>Business Owner</td>\n",
       "      <td>50.0</td>\n",
       "      <td>Married</td>\n",
       "    </tr>\n",
       "    <tr>\n",
       "      <th>633</th>\n",
       "      <td>634</td>\n",
       "      <td>Rudra Mehtani</td>\n",
       "      <td>Male</td>\n",
       "      <td>26</td>\n",
       "      <td>City</td>\n",
       "      <td>Data Scientist</td>\n",
       "      <td>2.0</td>\n",
       "      <td>Married</td>\n",
       "    </tr>\n",
       "    <tr>\n",
       "      <th>686</th>\n",
       "      <td>687</td>\n",
       "      <td>Vihaan Jaiswal</td>\n",
       "      <td>Male</td>\n",
       "      <td>40</td>\n",
       "      <td>City</td>\n",
       "      <td>Business Owner</td>\n",
       "      <td>2.0</td>\n",
       "      <td>Married</td>\n",
       "    </tr>\n",
       "    <tr>\n",
       "      <th>696</th>\n",
       "      <td>697</td>\n",
       "      <td>Ishan Negi</td>\n",
       "      <td>Male</td>\n",
       "      <td>47</td>\n",
       "      <td>City</td>\n",
       "      <td>Consultant</td>\n",
       "      <td>20.0</td>\n",
       "      <td>Married</td>\n",
       "    </tr>\n",
       "  </tbody>\n",
       "</table>\n",
       "</div>"
      ],
      "text/plain": [
       "     cust_id            name  gender  age location           occupation  \\\n",
       "31        32     Veer Mistry    Male   50     City       Business Owner   \n",
       "262      263   Vivaan Tandon    Male   53   Suburb       Business Owner   \n",
       "316      317   Yuvraj Saxena    Male   47     City           Consultant   \n",
       "333      334    Avani Khanna  Female   29     City       Data Scientist   \n",
       "340      341     Priya Sinha  Female   33    Rural  Fullstack Developer   \n",
       "543      544    Advait Batra    Male   54     City           Consultant   \n",
       "592      593    Priya Gandhi  Female   32     City       Business Owner   \n",
       "633      634   Rudra Mehtani    Male   26     City       Data Scientist   \n",
       "686      687  Vihaan Jaiswal    Male   40     City       Business Owner   \n",
       "696      697      Ishan Negi    Male   47     City           Consultant   \n",
       "\n",
       "     annual_income marital_status  \n",
       "31            50.0        Married  \n",
       "262           50.0        Married  \n",
       "316           50.0        Married  \n",
       "333           50.0        Married  \n",
       "340           50.0        Married  \n",
       "543            2.0        Married  \n",
       "592           50.0        Married  \n",
       "633            2.0        Married  \n",
       "686            2.0        Married  \n",
       "696           20.0        Married  "
      ]
     },
     "execution_count": 21,
     "metadata": {},
     "output_type": "execute_result"
    }
   ],
   "source": [
    "# let find out inconce below 100$\n",
    "df_cust[df_cust.annual_income<100]"
   ]
  },
  {
   "cell_type": "code",
   "execution_count": 22,
   "id": "01fe7f6f-6141-4c30-a4a1-ee105ac69862",
   "metadata": {},
   "outputs": [
    {
     "data": {
      "text/plain": [
       "44887.0"
      ]
     },
     "execution_count": 22,
     "metadata": {},
     "output_type": "execute_result"
    }
   ],
   "source": [
    "df_cust.at[5,\"annual_income\"] # at is used to print value at perticualr index in column"
   ]
  },
  {
   "cell_type": "code",
   "execution_count": 23,
   "id": "7a969743-db40-4d0f-8146-0c336f60eef9",
   "metadata": {},
   "outputs": [],
   "source": [
    "for index,row in df_cust.iterrows():     # we will itreate to each row\n",
    "    if row[\"annual_income\"] <100:\n",
    "        df_cust.at[index, \"annual_income\"] = occupation_wise_inc_median [row[\"occupation\"]]\n",
    "# Using this we will replace values with occupation medain whose sal less than 100        "
   ]
  },
  {
   "cell_type": "code",
   "execution_count": 24,
   "id": "e98463d8-643c-4f49-997b-68c8246f4cab",
   "metadata": {},
   "outputs": [
    {
     "data": {
      "text/html": [
       "<div>\n",
       "<style scoped>\n",
       "    .dataframe tbody tr th:only-of-type {\n",
       "        vertical-align: middle;\n",
       "    }\n",
       "\n",
       "    .dataframe tbody tr th {\n",
       "        vertical-align: top;\n",
       "    }\n",
       "\n",
       "    .dataframe thead th {\n",
       "        text-align: right;\n",
       "    }\n",
       "</style>\n",
       "<table border=\"1\" class=\"dataframe\">\n",
       "  <thead>\n",
       "    <tr style=\"text-align: right;\">\n",
       "      <th></th>\n",
       "      <th>cust_id</th>\n",
       "      <th>name</th>\n",
       "      <th>gender</th>\n",
       "      <th>age</th>\n",
       "      <th>location</th>\n",
       "      <th>occupation</th>\n",
       "      <th>annual_income</th>\n",
       "      <th>marital_status</th>\n",
       "    </tr>\n",
       "  </thead>\n",
       "  <tbody>\n",
       "  </tbody>\n",
       "</table>\n",
       "</div>"
      ],
      "text/plain": [
       "Empty DataFrame\n",
       "Columns: [cust_id, name, gender, age, location, occupation, annual_income, marital_status]\n",
       "Index: []"
      ]
     },
     "execution_count": 24,
     "metadata": {},
     "output_type": "execute_result"
    }
   ],
   "source": [
    "df_cust[df_cust.annual_income<100]"
   ]
  },
  {
   "cell_type": "markdown",
   "id": "9d76f0d2-9418-4975-8aa1-a2a7e4243779",
   "metadata": {},
   "source": [
    "Data Visulization"
   ]
  },
  {
   "cell_type": "code",
   "execution_count": 26,
   "id": "bea635e8-a475-4937-a7a1-990dddcdcfac",
   "metadata": {},
   "outputs": [
    {
     "data": {
      "text/plain": [
       "occupation\n",
       "Accountant              64123.562500\n",
       "Artist                  45309.236842\n",
       "Business Owner         268447.368512\n",
       "Consultant              60703.154639\n",
       "Data Scientist         137021.266304\n",
       "Freelancer              76327.508772\n",
       "Fullstack Developer     78727.972973\n",
       "Name: annual_income, dtype: float64"
      ]
     },
     "execution_count": 26,
     "metadata": {},
     "output_type": "execute_result"
    }
   ],
   "source": [
    "occupation_wise_inc_mean = df_cust.groupby(\"occupation\")[\"annual_income\"].mean() \n",
    "occupation_wise_inc_mean"
   ]
  },
  {
   "cell_type": "code",
   "execution_count": 27,
   "id": "a7379fee-3554-4c63-9a8f-ef119ab38f15",
   "metadata": {},
   "outputs": [
    {
     "data": {
      "image/png": "[encoded data removed]",
      "text/plain": [
       "<Figure size 640x480 with 1 Axes>"
      ]
     },
     "metadata": {},
     "output_type": "display_data"
    }
   ],
   "source": [
    "sns.barplot(x=occupation_wise_inc_mean.index,y=occupation_wise_inc_mean.values,color='b')\n",
    "plt.xticks(rotation=45) # to rotate names at x-axis by 45 degree\n",
    "plt.show()"
   ]
  },
  {
   "cell_type": "code",
   "execution_count": 28,
   "id": "fbc64145-56c5-46da-991d-0f2d16fab3a0",
   "metadata": {},
   "outputs": [
    {
     "name": "stderr",
     "output_type": "stream",
     "text": [
      "/var/folders/gn/msf4ty3s5j30lw19_2_v3dq40000gn/T/ipykernel_11265/1790311944.py:19: FutureWarning: \n",
      "\n",
      "The `ci` parameter is deprecated. Use `errorbar=None` for the same effect.\n",
      "\n",
      "  sns.barplot(x=cat_col, y='annual_income', data=sorted_data, ci=None, ax=axes[i], palette='tab10')\n",
      "/var/folders/gn/msf4ty3s5j30lw19_2_v3dq40000gn/T/ipykernel_11265/1790311944.py:19: FutureWarning: \n",
      "\n",
      "Passing `palette` without assigning `hue` is deprecated and will be removed in v0.14.0. Assign the `x` variable to `hue` and set `legend=False` for the same effect.\n",
      "\n",
      "  sns.barplot(x=cat_col, y='annual_income', data=sorted_data, ci=None, ax=axes[i], palette='tab10')\n",
      "/var/folders/gn/msf4ty3s5j30lw19_2_v3dq40000gn/T/ipykernel_11265/1790311944.py:25: UserWarning: set_ticklabels() should only be used with a fixed number of ticks, i.e. after set_ticks() or using a FixedLocator.\n",
      "  axes[i].set_xticklabels(axes[i].get_xticklabels(), rotation=45)\n",
      "/var/folders/gn/msf4ty3s5j30lw19_2_v3dq40000gn/T/ipykernel_11265/1790311944.py:19: FutureWarning: \n",
      "\n",
      "The `ci` parameter is deprecated. Use `errorbar=None` for the same effect.\n",
      "\n",
      "  sns.barplot(x=cat_col, y='annual_income', data=sorted_data, ci=None, ax=axes[i], palette='tab10')\n",
      "/var/folders/gn/msf4ty3s5j30lw19_2_v3dq40000gn/T/ipykernel_11265/1790311944.py:19: FutureWarning: \n",
      "\n",
      "Passing `palette` without assigning `hue` is deprecated and will be removed in v0.14.0. Assign the `x` variable to `hue` and set `legend=False` for the same effect.\n",
      "\n",
      "  sns.barplot(x=cat_col, y='annual_income', data=sorted_data, ci=None, ax=axes[i], palette='tab10')\n",
      "/var/folders/gn/msf4ty3s5j30lw19_2_v3dq40000gn/T/ipykernel_11265/1790311944.py:25: UserWarning: set_ticklabels() should only be used with a fixed number of ticks, i.e. after set_ticks() or using a FixedLocator.\n",
      "  axes[i].set_xticklabels(axes[i].get_xticklabels(), rotation=45)\n",
      "/var/folders/gn/msf4ty3s5j30lw19_2_v3dq40000gn/T/ipykernel_11265/1790311944.py:19: FutureWarning: \n",
      "\n",
      "The `ci` parameter is deprecated. Use `errorbar=None` for the same effect.\n",
      "\n",
      "  sns.barplot(x=cat_col, y='annual_income', data=sorted_data, ci=None, ax=axes[i], palette='tab10')\n",
      "/var/folders/gn/msf4ty3s5j30lw19_2_v3dq40000gn/T/ipykernel_11265/1790311944.py:19: FutureWarning: \n",
      "\n",
      "Passing `palette` without assigning `hue` is deprecated and will be removed in v0.14.0. Assign the `x` variable to `hue` and set `legend=False` for the same effect.\n",
      "\n",
      "  sns.barplot(x=cat_col, y='annual_income', data=sorted_data, ci=None, ax=axes[i], palette='tab10')\n",
      "/var/folders/gn/msf4ty3s5j30lw19_2_v3dq40000gn/T/ipykernel_11265/1790311944.py:25: UserWarning: set_ticklabels() should only be used with a fixed number of ticks, i.e. after set_ticks() or using a FixedLocator.\n",
      "  axes[i].set_xticklabels(axes[i].get_xticklabels(), rotation=45)\n",
      "/var/folders/gn/msf4ty3s5j30lw19_2_v3dq40000gn/T/ipykernel_11265/1790311944.py:19: FutureWarning: \n",
      "\n",
      "The `ci` parameter is deprecated. Use `errorbar=None` for the same effect.\n",
      "\n",
      "  sns.barplot(x=cat_col, y='annual_income', data=sorted_data, ci=None, ax=axes[i], palette='tab10')\n",
      "/var/folders/gn/msf4ty3s5j30lw19_2_v3dq40000gn/T/ipykernel_11265/1790311944.py:19: FutureWarning: \n",
      "\n",
      "Passing `palette` without assigning `hue` is deprecated and will be removed in v0.14.0. Assign the `x` variable to `hue` and set `legend=False` for the same effect.\n",
      "\n",
      "  sns.barplot(x=cat_col, y='annual_income', data=sorted_data, ci=None, ax=axes[i], palette='tab10')\n",
      "/var/folders/gn/msf4ty3s5j30lw19_2_v3dq40000gn/T/ipykernel_11265/1790311944.py:25: UserWarning: set_ticklabels() should only be used with a fixed number of ticks, i.e. after set_ticks() or using a FixedLocator.\n",
      "  axes[i].set_xticklabels(axes[i].get_xticklabels(), rotation=45)\n"
     ]
    },
    {
     "data": {
      "image/png": "[encoded data removed]",
      "text/plain": [
       "<Figure size 1200x1200 with 4 Axes>"
      ]
     },
     "metadata": {},
     "output_type": "display_data"
    }
   ],
   "source": [
    "# List of categorical columns\n",
    "cat_cols = ['gender', 'location', 'occupation', 'marital_status']\n",
    "\n",
    "num_rows = 3\n",
    "# Create subplots\n",
    "fig, axes = plt.subplots(num_rows, 2, figsize=(12, 4 * num_rows))\n",
    "\n",
    "# Flatten the axes array to make it easier to iterate\n",
    "axes = axes.flatten()\n",
    "\n",
    "# Create subplots for each categorical column\n",
    "for i, cat_col in enumerate(cat_cols):\n",
    "    # Calculate the average annual income for each category\n",
    "    avg_income_by_category = df_cust.groupby(cat_col)['annual_income'].mean().reset_index()\n",
    "    \n",
    "    # Sort the data by 'annual_income' before plotting\n",
    "    sorted_data = avg_income_by_category.sort_values(by='annual_income', ascending=False)\n",
    "    \n",
    "    sns.barplot(x=cat_col, y='annual_income', data=sorted_data, ci=None, ax=axes[i], palette='tab10')\n",
    "    axes[i].set_title(f'Average Annual Income by {cat_col}')\n",
    "    axes[i].set_xlabel(cat_col)\n",
    "    axes[i].set_ylabel('Average Annual Income')\n",
    "\n",
    "    # Rotate x-axis labels for better readability\n",
    "    axes[i].set_xticklabels(axes[i].get_xticklabels(), rotation=45)\n",
    "\n",
    "# Hide any unused subplots\n",
    "for i in range(len(cat_cols), len(axes)):\n",
    "    fig.delaxes(axes[i])\n",
    "plt.tight_layout()\n",
    "plt.show()"
   ]
  },
  {
   "cell_type": "code",
   "execution_count": 29,
   "id": "77185263-56a2-4940-bea2-35ae36d05d04",
   "metadata": {},
   "outputs": [],
   "source": [
    "# Removing outlier in age column"
   ]
  },
  {
   "cell_type": "code",
   "execution_count": 30,
   "id": "ac5ce70b-399f-4da4-80f5-8a19e80203ee",
   "metadata": {},
   "outputs": [],
   "source": [
    "outliers=df_cust[(df_cust.age<15)|(df_cust.age>80)]"
   ]
  },
  {
   "cell_type": "code",
   "execution_count": 31,
   "id": "0048b0d8-d4cd-477b-9773-f8797d28891d",
   "metadata": {},
   "outputs": [
    {
     "data": {
      "text/plain": [
       "32.0"
      ]
     },
     "execution_count": 31,
     "metadata": {},
     "output_type": "execute_result"
    }
   ],
   "source": [
    "df_cust.age.median()"
   ]
  },
  {
   "cell_type": "code",
   "execution_count": 32,
   "id": "4a6eb25b-d986-454a-9c03-0a23f774c13f",
   "metadata": {},
   "outputs": [
    {
     "data": {
      "text/plain": [
       "occupation\n",
       "Accountant             31.5\n",
       "Artist                 26.0\n",
       "Business Owner         51.0\n",
       "Consultant             46.0\n",
       "Data Scientist         32.0\n",
       "Freelancer             24.0\n",
       "Fullstack Developer    27.5\n",
       "Name: age, dtype: float64"
      ]
     },
     "execution_count": 32,
     "metadata": {},
     "output_type": "execute_result"
    }
   ],
   "source": [
    "occupation_wise_median_age = df_cust.groupby(\"occupation\")[\"age\"].median() \n",
    "occupation_wise_median_age"
   ]
  },
  {
   "cell_type": "code",
   "execution_count": 33,
   "id": "e2cacab9-2fb8-48cf-aea5-9cfb03d0cc61",
   "metadata": {},
   "outputs": [
    {
     "name": "stderr",
     "output_type": "stream",
     "text": [
      "/var/folders/gn/msf4ty3s5j30lw19_2_v3dq40000gn/T/ipykernel_11265/1340317701.py:2: FutureWarning: Setting an item of incompatible dtype is deprecated and will raise an error in a future version of pandas. Value '31.5' has dtype incompatible with int64, please explicitly cast to a compatible dtype first.\n",
      "  df_cust.at[index, \"age\"] = occupation_wise_median_age [row[\"occupation\"]]\n"
     ]
    }
   ],
   "source": [
    "for index,row in outliers.iterrows():     # we will itreate to each row\n",
    "    df_cust.at[index, \"age\"] = occupation_wise_median_age [row[\"occupation\"]]"
   ]
  },
  {
   "cell_type": "code",
   "execution_count": 34,
   "id": "4dd6b616-3075-41f2-8761-53fe680d6d08",
   "metadata": {},
   "outputs": [
    {
     "data": {
      "text/html": [
       "<div>\n",
       "<style scoped>\n",
       "    .dataframe tbody tr th:only-of-type {\n",
       "        vertical-align: middle;\n",
       "    }\n",
       "\n",
       "    .dataframe tbody tr th {\n",
       "        vertical-align: top;\n",
       "    }\n",
       "\n",
       "    .dataframe thead th {\n",
       "        text-align: right;\n",
       "    }\n",
       "</style>\n",
       "<table border=\"1\" class=\"dataframe\">\n",
       "  <thead>\n",
       "    <tr style=\"text-align: right;\">\n",
       "      <th></th>\n",
       "      <th>cust_id</th>\n",
       "      <th>name</th>\n",
       "      <th>gender</th>\n",
       "      <th>age</th>\n",
       "      <th>location</th>\n",
       "      <th>occupation</th>\n",
       "      <th>annual_income</th>\n",
       "      <th>marital_status</th>\n",
       "    </tr>\n",
       "  </thead>\n",
       "  <tbody>\n",
       "  </tbody>\n",
       "</table>\n",
       "</div>"
      ],
      "text/plain": [
       "Empty DataFrame\n",
       "Columns: [cust_id, name, gender, age, location, occupation, annual_income, marital_status]\n",
       "Index: []"
      ]
     },
     "execution_count": 34,
     "metadata": {},
     "output_type": "execute_result"
    }
   ],
   "source": [
    "df_cust[(df_cust.age<15)|(df_cust.age>80)]"
   ]
  },
  {
   "cell_type": "markdown",
   "id": "2dd3e3ac-f725-4a3d-b161-d2363e9fea28",
   "metadata": {},
   "source": [
    "Data Visulization for age gender and location"
   ]
  },
  {
   "cell_type": "raw",
   "id": "020ee501-492b-4057-af8d-9dcc465865c4",
   "metadata": {},
   "source": [
    "1. Pie chart For age"
   ]
  },
  {
   "cell_type": "code",
   "execution_count": 36,
   "id": "9f1f4240-1043-4e4c-9c0e-150e1606fb80",
   "metadata": {},
   "outputs": [
    {
     "data": {
      "text/html": [
       "<div>\n",
       "<style scoped>\n",
       "    .dataframe tbody tr th:only-of-type {\n",
       "        vertical-align: middle;\n",
       "    }\n",
       "\n",
       "    .dataframe tbody tr th {\n",
       "        vertical-align: top;\n",
       "    }\n",
       "\n",
       "    .dataframe thead th {\n",
       "        text-align: right;\n",
       "    }\n",
       "</style>\n",
       "<table border=\"1\" class=\"dataframe\">\n",
       "  <thead>\n",
       "    <tr style=\"text-align: right;\">\n",
       "      <th></th>\n",
       "      <th>cust_id</th>\n",
       "      <th>name</th>\n",
       "      <th>gender</th>\n",
       "      <th>age</th>\n",
       "      <th>location</th>\n",
       "      <th>occupation</th>\n",
       "      <th>annual_income</th>\n",
       "      <th>marital_status</th>\n",
       "      <th>age_group</th>\n",
       "    </tr>\n",
       "  </thead>\n",
       "  <tbody>\n",
       "    <tr>\n",
       "      <th>0</th>\n",
       "      <td>1</td>\n",
       "      <td>Manya Acharya</td>\n",
       "      <td>Female</td>\n",
       "      <td>51.0</td>\n",
       "      <td>City</td>\n",
       "      <td>Business Owner</td>\n",
       "      <td>358211.0</td>\n",
       "      <td>Married</td>\n",
       "      <td>49-65</td>\n",
       "    </tr>\n",
       "    <tr>\n",
       "      <th>1</th>\n",
       "      <td>2</td>\n",
       "      <td>Anjali Pandey</td>\n",
       "      <td>Female</td>\n",
       "      <td>47.0</td>\n",
       "      <td>City</td>\n",
       "      <td>Consultant</td>\n",
       "      <td>65172.0</td>\n",
       "      <td>Single</td>\n",
       "      <td>26-48</td>\n",
       "    </tr>\n",
       "    <tr>\n",
       "      <th>2</th>\n",
       "      <td>3</td>\n",
       "      <td>Aaryan Chauhan</td>\n",
       "      <td>Male</td>\n",
       "      <td>21.0</td>\n",
       "      <td>City</td>\n",
       "      <td>Freelancer</td>\n",
       "      <td>22378.0</td>\n",
       "      <td>Married</td>\n",
       "      <td>18-25</td>\n",
       "    </tr>\n",
       "    <tr>\n",
       "      <th>3</th>\n",
       "      <td>4</td>\n",
       "      <td>Rudra Bali</td>\n",
       "      <td>Male</td>\n",
       "      <td>24.0</td>\n",
       "      <td>Rural</td>\n",
       "      <td>Freelancer</td>\n",
       "      <td>33563.0</td>\n",
       "      <td>Married</td>\n",
       "      <td>18-25</td>\n",
       "    </tr>\n",
       "    <tr>\n",
       "      <th>4</th>\n",
       "      <td>5</td>\n",
       "      <td>Advait Malik</td>\n",
       "      <td>Male</td>\n",
       "      <td>48.0</td>\n",
       "      <td>City</td>\n",
       "      <td>Consultant</td>\n",
       "      <td>39406.0</td>\n",
       "      <td>Married</td>\n",
       "      <td>26-48</td>\n",
       "    </tr>\n",
       "  </tbody>\n",
       "</table>\n",
       "</div>"
      ],
      "text/plain": [
       "   cust_id            name  gender   age location      occupation  \\\n",
       "0        1   Manya Acharya  Female  51.0     City  Business Owner   \n",
       "1        2   Anjali Pandey  Female  47.0     City      Consultant   \n",
       "2        3  Aaryan Chauhan    Male  21.0     City      Freelancer   \n",
       "3        4      Rudra Bali    Male  24.0    Rural      Freelancer   \n",
       "4        5    Advait Malik    Male  48.0     City      Consultant   \n",
       "\n",
       "   annual_income marital_status age_group  \n",
       "0       358211.0        Married     49-65  \n",
       "1        65172.0         Single     26-48  \n",
       "2        22378.0        Married     18-25  \n",
       "3        33563.0        Married     18-25  \n",
       "4        39406.0        Married     26-48  "
      ]
     },
     "execution_count": 36,
     "metadata": {},
     "output_type": "execute_result"
    }
   ],
   "source": [
    "# Define the bin edges and Labels \n",
    "bin_edges = [17, 25, 48, 65] # Adjust as needed \n",
    "bin_labels = ['18-25', '26-48', '49-65'] # Use the cut function to bin and Label the age column \n",
    "df_cust['age_group'] = pd.cut(df_cust['age'], bins=bin_edges, labels=bin_labels) \n",
    "df_cust.head()"
   ]
  },
  {
   "cell_type": "code",
   "execution_count": 37,
   "id": "37139536-95bd-405b-8455-535fe2eb5282",
   "metadata": {},
   "outputs": [],
   "source": [
    "# Above we added column for age group "
   ]
  },
  {
   "cell_type": "code",
   "execution_count": 38,
   "id": "9c2e3aeb-c78e-4aef-a005-259e26527598",
   "metadata": {},
   "outputs": [
    {
     "data": {
      "text/plain": [
       "age_group\n",
       "26-48    56.7\n",
       "18-25    24.6\n",
       "49-65    18.7\n",
       "Name: proportion, dtype: float64"
      ]
     },
     "execution_count": 38,
     "metadata": {},
     "output_type": "execute_result"
    }
   ],
   "source": [
    "age_group_count=df_cust.age_group.value_counts(normalize=True)*100 # To get value count for each age group, noram *100 is to convert it nto percentage\n",
    "age_group_count"
   ]
  },
  {
   "cell_type": "code",
   "execution_count": 39,
   "id": "1049664d-77fc-4f07-af85-0d1dc8aeb1cb",
   "metadata": {},
   "outputs": [
    {
     "data": {
      "image/png": "[encoded data removed]",
      "text/plain": [
       "<Figure size 640x480 with 1 Axes>"
      ]
     },
     "metadata": {},
     "output_type": "display_data"
    }
   ],
   "source": [
    "plt.pie(\n",
    "    age_group_count,\n",
    "    labels=age_group_count.index,\n",
    "    autopct='%1.1f%%',\n",
    "    shadow=True)\n",
    "plt.show()"
   ]
  },
  {
   "cell_type": "raw",
   "id": "59e28e60-499f-4d58-9edd-f2d28d3985e8",
   "metadata": {},
   "source": [
    "2. Location and Gender Stacked bar plot"
   ]
  },
  {
   "cell_type": "code",
   "execution_count": 40,
   "id": "00cd1c42-7f90-44a6-a77c-47c60c4b5bb2",
   "metadata": {},
   "outputs": [
    {
     "data": {
      "text/html": [
       "<div>\n",
       "<style scoped>\n",
       "    .dataframe tbody tr th:only-of-type {\n",
       "        vertical-align: middle;\n",
       "    }\n",
       "\n",
       "    .dataframe tbody tr th {\n",
       "        vertical-align: top;\n",
       "    }\n",
       "\n",
       "    .dataframe thead th {\n",
       "        text-align: right;\n",
       "    }\n",
       "</style>\n",
       "<table border=\"1\" class=\"dataframe\">\n",
       "  <thead>\n",
       "    <tr style=\"text-align: right;\">\n",
       "      <th>gender</th>\n",
       "      <th>Female</th>\n",
       "      <th>Male</th>\n",
       "    </tr>\n",
       "    <tr>\n",
       "      <th>location</th>\n",
       "      <th></th>\n",
       "      <th></th>\n",
       "    </tr>\n",
       "  </thead>\n",
       "  <tbody>\n",
       "    <tr>\n",
       "      <th>City</th>\n",
       "      <td>226</td>\n",
       "      <td>457</td>\n",
       "    </tr>\n",
       "    <tr>\n",
       "      <th>Rural</th>\n",
       "      <td>26</td>\n",
       "      <td>59</td>\n",
       "    </tr>\n",
       "    <tr>\n",
       "      <th>Suburb</th>\n",
       "      <td>74</td>\n",
       "      <td>158</td>\n",
       "    </tr>\n",
       "  </tbody>\n",
       "</table>\n",
       "</div>"
      ],
      "text/plain": [
       "gender    Female  Male\n",
       "location              \n",
       "City         226   457\n",
       "Rural         26    59\n",
       "Suburb        74   158"
      ]
     },
     "execution_count": 40,
     "metadata": {},
     "output_type": "execute_result"
    }
   ],
   "source": [
    "customer_location_gender=df_cust.groupby(['location','gender']).size().unstack()\n",
    "customer_location_gender"
   ]
  },
  {
   "cell_type": "code",
   "execution_count": 41,
   "id": "f198e851-059b-45f8-888f-50940c8de39f",
   "metadata": {},
   "outputs": [
    {
     "data": {
      "text/plain": [
       "<Axes: xlabel='location'>"
      ]
     },
     "execution_count": 41,
     "metadata": {},
     "output_type": "execute_result"
    },
    {
     "data": {
      "image/png": "[encoded data removed]",
      "text/plain": [
       "<Figure size 800x400 with 1 Axes>"
      ]
     },
     "metadata": {},
     "output_type": "display_data"
    }
   ],
   "source": [
    "# We can plot bar chart in this way as well\n",
    "customer_location_gender.plot(kind=\"bar\",stacked=True,figsize=(8,4))"
   ]
  },
  {
   "cell_type": "markdown",
   "id": "da949bb5-1120-4a68-8f61-decc91a6d123",
   "metadata": {},
   "source": [
    "Explore Credit Scores"
   ]
  },
  {
   "cell_type": "code",
   "execution_count": 43,
   "id": "4097c1f3-9700-48d9-b2fc-8f66f61dd3ad",
   "metadata": {},
   "outputs": [
    {
     "data": {
      "text/html": [
       "<div>\n",
       "<style scoped>\n",
       "    .dataframe tbody tr th:only-of-type {\n",
       "        vertical-align: middle;\n",
       "    }\n",
       "\n",
       "    .dataframe tbody tr th {\n",
       "        vertical-align: top;\n",
       "    }\n",
       "\n",
       "    .dataframe thead th {\n",
       "        text-align: right;\n",
       "    }\n",
       "</style>\n",
       "<table border=\"1\" class=\"dataframe\">\n",
       "  <thead>\n",
       "    <tr style=\"text-align: right;\">\n",
       "      <th></th>\n",
       "      <th>cust_id</th>\n",
       "      <th>credit_score</th>\n",
       "      <th>credit_utilisation</th>\n",
       "      <th>outstanding_debt</th>\n",
       "      <th>credit_inquiries_last_6_months</th>\n",
       "      <th>credit_limit</th>\n",
       "    </tr>\n",
       "  </thead>\n",
       "  <tbody>\n",
       "    <tr>\n",
       "      <th>516</th>\n",
       "      <td>517</td>\n",
       "      <td>308</td>\n",
       "      <td>NaN</td>\n",
       "      <td>NaN</td>\n",
       "      <td>NaN</td>\n",
       "      <td>NaN</td>\n",
       "    </tr>\n",
       "    <tr>\n",
       "      <th>517</th>\n",
       "      <td>517</td>\n",
       "      <td>308</td>\n",
       "      <td>0.113860</td>\n",
       "      <td>33.0</td>\n",
       "      <td>3.0</td>\n",
       "      <td>500.0</td>\n",
       "    </tr>\n",
       "    <tr>\n",
       "      <th>569</th>\n",
       "      <td>569</td>\n",
       "      <td>344</td>\n",
       "      <td>NaN</td>\n",
       "      <td>NaN</td>\n",
       "      <td>NaN</td>\n",
       "      <td>NaN</td>\n",
       "    </tr>\n",
       "    <tr>\n",
       "      <th>570</th>\n",
       "      <td>569</td>\n",
       "      <td>344</td>\n",
       "      <td>0.112599</td>\n",
       "      <td>37.0</td>\n",
       "      <td>0.0</td>\n",
       "      <td>500.0</td>\n",
       "    </tr>\n",
       "    <tr>\n",
       "      <th>607</th>\n",
       "      <td>606</td>\n",
       "      <td>734</td>\n",
       "      <td>NaN</td>\n",
       "      <td>NaN</td>\n",
       "      <td>NaN</td>\n",
       "      <td>NaN</td>\n",
       "    </tr>\n",
       "    <tr>\n",
       "      <th>608</th>\n",
       "      <td>606</td>\n",
       "      <td>734</td>\n",
       "      <td>0.193418</td>\n",
       "      <td>4392.0</td>\n",
       "      <td>1.0</td>\n",
       "      <td>40000.0</td>\n",
       "    </tr>\n",
       "    <tr>\n",
       "      <th>664</th>\n",
       "      <td>662</td>\n",
       "      <td>442</td>\n",
       "      <td>NaN</td>\n",
       "      <td>NaN</td>\n",
       "      <td>NaN</td>\n",
       "      <td>NaN</td>\n",
       "    </tr>\n",
       "    <tr>\n",
       "      <th>665</th>\n",
       "      <td>662</td>\n",
       "      <td>442</td>\n",
       "      <td>0.856039</td>\n",
       "      <td>266.0</td>\n",
       "      <td>2.0</td>\n",
       "      <td>500.0</td>\n",
       "    </tr>\n",
       "  </tbody>\n",
       "</table>\n",
       "</div>"
      ],
      "text/plain": [
       "     cust_id  credit_score  credit_utilisation  outstanding_debt  \\\n",
       "516      517           308                 NaN               NaN   \n",
       "517      517           308            0.113860              33.0   \n",
       "569      569           344                 NaN               NaN   \n",
       "570      569           344            0.112599              37.0   \n",
       "607      606           734                 NaN               NaN   \n",
       "608      606           734            0.193418            4392.0   \n",
       "664      662           442                 NaN               NaN   \n",
       "665      662           442            0.856039             266.0   \n",
       "\n",
       "     credit_inquiries_last_6_months  credit_limit  \n",
       "516                             NaN           NaN  \n",
       "517                             3.0         500.0  \n",
       "569                             NaN           NaN  \n",
       "570                             0.0         500.0  \n",
       "607                             NaN           NaN  \n",
       "608                             1.0       40000.0  \n",
       "664                             NaN           NaN  \n",
       "665                             2.0         500.0  "
      ]
     },
     "execution_count": 43,
     "metadata": {},
     "output_type": "execute_result"
    }
   ],
   "source": [
    "# Finding duplicate customer id's\n",
    "df_cs[df_cs['cust_id'].duplicated(keep=False)]"
   ]
  },
  {
   "cell_type": "code",
   "execution_count": 44,
   "id": "19c22ec7-fe0e-444c-ba4c-30cee9922f42",
   "metadata": {},
   "outputs": [
    {
     "data": {
      "text/html": [
       "<div>\n",
       "<style scoped>\n",
       "    .dataframe tbody tr th:only-of-type {\n",
       "        vertical-align: middle;\n",
       "    }\n",
       "\n",
       "    .dataframe tbody tr th {\n",
       "        vertical-align: top;\n",
       "    }\n",
       "\n",
       "    .dataframe thead th {\n",
       "        text-align: right;\n",
       "    }\n",
       "</style>\n",
       "<table border=\"1\" class=\"dataframe\">\n",
       "  <thead>\n",
       "    <tr style=\"text-align: right;\">\n",
       "      <th></th>\n",
       "      <th>cust_id</th>\n",
       "      <th>credit_score</th>\n",
       "      <th>credit_utilisation</th>\n",
       "      <th>outstanding_debt</th>\n",
       "      <th>credit_inquiries_last_6_months</th>\n",
       "      <th>credit_limit</th>\n",
       "    </tr>\n",
       "  </thead>\n",
       "  <tbody>\n",
       "    <tr>\n",
       "      <th>0</th>\n",
       "      <td>1</td>\n",
       "      <td>749</td>\n",
       "      <td>0.585171</td>\n",
       "      <td>19571.0</td>\n",
       "      <td>0.0</td>\n",
       "      <td>40000.0</td>\n",
       "    </tr>\n",
       "    <tr>\n",
       "      <th>1</th>\n",
       "      <td>2</td>\n",
       "      <td>587</td>\n",
       "      <td>0.107928</td>\n",
       "      <td>161644.0</td>\n",
       "      <td>2.0</td>\n",
       "      <td>1250.0</td>\n",
       "    </tr>\n",
       "    <tr>\n",
       "      <th>2</th>\n",
       "      <td>3</td>\n",
       "      <td>544</td>\n",
       "      <td>0.854807</td>\n",
       "      <td>513.0</td>\n",
       "      <td>4.0</td>\n",
       "      <td>1000.0</td>\n",
       "    </tr>\n",
       "    <tr>\n",
       "      <th>3</th>\n",
       "      <td>4</td>\n",
       "      <td>504</td>\n",
       "      <td>0.336938</td>\n",
       "      <td>224.0</td>\n",
       "      <td>2.0</td>\n",
       "      <td>1000.0</td>\n",
       "    </tr>\n",
       "    <tr>\n",
       "      <th>4</th>\n",
       "      <td>5</td>\n",
       "      <td>708</td>\n",
       "      <td>0.586151</td>\n",
       "      <td>18090.0</td>\n",
       "      <td>2.0</td>\n",
       "      <td>40000.0</td>\n",
       "    </tr>\n",
       "    <tr>\n",
       "      <th>...</th>\n",
       "      <td>...</td>\n",
       "      <td>...</td>\n",
       "      <td>...</td>\n",
       "      <td>...</td>\n",
       "      <td>...</td>\n",
       "      <td>...</td>\n",
       "    </tr>\n",
       "    <tr>\n",
       "      <th>999</th>\n",
       "      <td>996</td>\n",
       "      <td>564</td>\n",
       "      <td>0.702963</td>\n",
       "      <td>688.0</td>\n",
       "      <td>2.0</td>\n",
       "      <td>1250.0</td>\n",
       "    </tr>\n",
       "    <tr>\n",
       "      <th>1000</th>\n",
       "      <td>997</td>\n",
       "      <td>774</td>\n",
       "      <td>0.465462</td>\n",
       "      <td>17139.0</td>\n",
       "      <td>0.0</td>\n",
       "      <td>60000.0</td>\n",
       "    </tr>\n",
       "    <tr>\n",
       "      <th>1001</th>\n",
       "      <td>998</td>\n",
       "      <td>529</td>\n",
       "      <td>0.585856</td>\n",
       "      <td>386.0</td>\n",
       "      <td>3.0</td>\n",
       "      <td>1000.0</td>\n",
       "    </tr>\n",
       "    <tr>\n",
       "      <th>1002</th>\n",
       "      <td>999</td>\n",
       "      <td>725</td>\n",
       "      <td>0.249670</td>\n",
       "      <td>6973.0</td>\n",
       "      <td>2.0</td>\n",
       "      <td>40000.0</td>\n",
       "    </tr>\n",
       "    <tr>\n",
       "      <th>1003</th>\n",
       "      <td>1000</td>\n",
       "      <td>775</td>\n",
       "      <td>0.696050</td>\n",
       "      <td>33956.0</td>\n",
       "      <td>1.0</td>\n",
       "      <td>60000.0</td>\n",
       "    </tr>\n",
       "  </tbody>\n",
       "</table>\n",
       "<p>1000 rows × 6 columns</p>\n",
       "</div>"
      ],
      "text/plain": [
       "      cust_id  credit_score  credit_utilisation  outstanding_debt  \\\n",
       "0           1           749            0.585171           19571.0   \n",
       "1           2           587            0.107928          161644.0   \n",
       "2           3           544            0.854807             513.0   \n",
       "3           4           504            0.336938             224.0   \n",
       "4           5           708            0.586151           18090.0   \n",
       "...       ...           ...                 ...               ...   \n",
       "999       996           564            0.702963             688.0   \n",
       "1000      997           774            0.465462           17139.0   \n",
       "1001      998           529            0.585856             386.0   \n",
       "1002      999           725            0.249670            6973.0   \n",
       "1003     1000           775            0.696050           33956.0   \n",
       "\n",
       "      credit_inquiries_last_6_months  credit_limit  \n",
       "0                                0.0       40000.0  \n",
       "1                                2.0        1250.0  \n",
       "2                                4.0        1000.0  \n",
       "3                                2.0        1000.0  \n",
       "4                                2.0       40000.0  \n",
       "...                              ...           ...  \n",
       "999                              2.0        1250.0  \n",
       "1000                             0.0       60000.0  \n",
       "1001                             3.0        1000.0  \n",
       "1002                             2.0       40000.0  \n",
       "1003                             1.0       60000.0  \n",
       "\n",
       "[1000 rows x 6 columns]"
      ]
     },
     "execution_count": 44,
     "metadata": {},
     "output_type": "execute_result"
    }
   ],
   "source": [
    "# Let's drop duplicates\n",
    "df_cs_clean1=df_cs.drop_duplicates(subset=['cust_id'],keep=\"last\")\n",
    "df_cs_clean1"
   ]
  },
  {
   "cell_type": "code",
   "execution_count": 45,
   "id": "1d360385-0753-4f60-b7a6-42da879f5f52",
   "metadata": {},
   "outputs": [
    {
     "data": {
      "text/html": [
       "<div>\n",
       "<style scoped>\n",
       "    .dataframe tbody tr th:only-of-type {\n",
       "        vertical-align: middle;\n",
       "    }\n",
       "\n",
       "    .dataframe tbody tr th {\n",
       "        vertical-align: top;\n",
       "    }\n",
       "\n",
       "    .dataframe thead th {\n",
       "        text-align: right;\n",
       "    }\n",
       "</style>\n",
       "<table border=\"1\" class=\"dataframe\">\n",
       "  <thead>\n",
       "    <tr style=\"text-align: right;\">\n",
       "      <th></th>\n",
       "      <th>cust_id</th>\n",
       "      <th>credit_score</th>\n",
       "      <th>credit_utilisation</th>\n",
       "      <th>outstanding_debt</th>\n",
       "      <th>credit_inquiries_last_6_months</th>\n",
       "      <th>credit_limit</th>\n",
       "    </tr>\n",
       "  </thead>\n",
       "  <tbody>\n",
       "  </tbody>\n",
       "</table>\n",
       "</div>"
      ],
      "text/plain": [
       "Empty DataFrame\n",
       "Columns: [cust_id, credit_score, credit_utilisation, outstanding_debt, credit_inquiries_last_6_months, credit_limit]\n",
       "Index: []"
      ]
     },
     "execution_count": 45,
     "metadata": {},
     "output_type": "execute_result"
    }
   ],
   "source": [
    "df_cs_clean1[df_cs_clean1['cust_id'].duplicated(keep=False)]"
   ]
  },
  {
   "cell_type": "code",
   "execution_count": 46,
   "id": "7392ef02-1ef8-4fc2-b72a-2b2ca6de7c90",
   "metadata": {},
   "outputs": [
    {
     "data": {
      "text/plain": [
       "credit_limit\n",
       "500.0      229\n",
       "60000.0    186\n",
       "40000.0    137\n",
       "1500.0     100\n",
       "1000.0      90\n",
       "750.0       76\n",
       "1250.0      75\n",
       "20000.0     42\n",
       "Name: count, dtype: int64"
      ]
     },
     "execution_count": 46,
     "metadata": {},
     "output_type": "execute_result"
    }
   ],
   "source": [
    "df_cs_clean1.credit_limit.value_counts()"
   ]
  },
  {
   "cell_type": "code",
   "execution_count": 47,
   "id": "7d196d9e-4f70-48d9-a815-d4f069112fc7",
   "metadata": {},
   "outputs": [
    {
     "name": "stderr",
     "output_type": "stream",
     "text": [
      "/var/folders/gn/msf4ty3s5j30lw19_2_v3dq40000gn/T/ipykernel_11265/671026746.py:2: UserWarning: No artists with labels found to put in legend.  Note that artists whose label start with an underscore are ignored when legend() is called with no argument.\n",
      "  plt.legend()\n"
     ]
    },
    {
     "data": {
      "image/png": "[encoded data removed]",
      "text/plain": [
       "<Figure size 640x480 with 1 Axes>"
      ]
     },
     "metadata": {},
     "output_type": "display_data"
    }
   ],
   "source": [
    "plt.scatter(df_cs_clean1.credit_limit,df_cs_clean1.credit_score,color='g')\n",
    "plt.legend()\n",
    "plt.show()"
   ]
  },
  {
   "cell_type": "code",
   "execution_count": 48,
   "id": "0983e66d-a2db-488b-91b5-9b0ee49f7a7e",
   "metadata": {},
   "outputs": [
    {
     "data": {
      "text/plain": [
       "['300-449',\n",
       " '450-499',\n",
       " '500-549',\n",
       " '550-599',\n",
       " '600-649',\n",
       " '650-699',\n",
       " '700-749',\n",
       " '750-799']"
      ]
     },
     "execution_count": 48,
     "metadata": {},
     "output_type": "execute_result"
    }
   ],
   "source": [
    "# Creating groups for credit score\n",
    "bin_ranges = [300, 450, 500, 550, 600, 650, 700, 750, 800] \n",
    "bin_labels = [f'{start}-{end-1}' for start, end in zip (bin_ranges, bin_ranges [1:])]\n",
    "bin_labels"
   ]
  },
  {
   "cell_type": "code",
   "execution_count": 49,
   "id": "f203456b-9659-472a-b3bd-b649a3e53eb5",
   "metadata": {},
   "outputs": [
    {
     "name": "stderr",
     "output_type": "stream",
     "text": [
      "/var/folders/gn/msf4ty3s5j30lw19_2_v3dq40000gn/T/ipykernel_11265/1832207101.py:1: SettingWithCopyWarning: \n",
      "A value is trying to be set on a copy of a slice from a DataFrame.\n",
      "Try using .loc[row_indexer,col_indexer] = value instead\n",
      "\n",
      "See the caveats in the documentation: https://pandas.pydata.org/pandas-docs/stable/user_guide/indexing.html#returning-a-view-versus-a-copy\n",
      "  df_cs_clean1['credit_score_range']=pd.cut(df_cs_clean1['credit_score'],bins=bin_ranges,labels=bin_labels,include_lowest=True,right=False)\n"
     ]
    }
   ],
   "source": [
    "df_cs_clean1['credit_score_range']=pd.cut(df_cs_clean1['credit_score'],bins=bin_ranges,labels=bin_labels,include_lowest=True,right=False)"
   ]
  },
  {
   "cell_type": "code",
   "execution_count": 50,
   "id": "5a6f94e7-e954-4eb7-90ff-4780cc781ea5",
   "metadata": {},
   "outputs": [
    {
     "data": {
      "text/html": [
       "<div>\n",
       "<style scoped>\n",
       "    .dataframe tbody tr th:only-of-type {\n",
       "        vertical-align: middle;\n",
       "    }\n",
       "\n",
       "    .dataframe tbody tr th {\n",
       "        vertical-align: top;\n",
       "    }\n",
       "\n",
       "    .dataframe thead th {\n",
       "        text-align: right;\n",
       "    }\n",
       "</style>\n",
       "<table border=\"1\" class=\"dataframe\">\n",
       "  <thead>\n",
       "    <tr style=\"text-align: right;\">\n",
       "      <th></th>\n",
       "      <th>cust_id</th>\n",
       "      <th>credit_score</th>\n",
       "      <th>credit_utilisation</th>\n",
       "      <th>outstanding_debt</th>\n",
       "      <th>credit_inquiries_last_6_months</th>\n",
       "      <th>credit_limit</th>\n",
       "      <th>credit_score_range</th>\n",
       "    </tr>\n",
       "  </thead>\n",
       "  <tbody>\n",
       "    <tr>\n",
       "      <th>0</th>\n",
       "      <td>1</td>\n",
       "      <td>749</td>\n",
       "      <td>0.585171</td>\n",
       "      <td>19571.0</td>\n",
       "      <td>0.0</td>\n",
       "      <td>40000.0</td>\n",
       "      <td>700-749</td>\n",
       "    </tr>\n",
       "    <tr>\n",
       "      <th>1</th>\n",
       "      <td>2</td>\n",
       "      <td>587</td>\n",
       "      <td>0.107928</td>\n",
       "      <td>161644.0</td>\n",
       "      <td>2.0</td>\n",
       "      <td>1250.0</td>\n",
       "      <td>550-599</td>\n",
       "    </tr>\n",
       "    <tr>\n",
       "      <th>2</th>\n",
       "      <td>3</td>\n",
       "      <td>544</td>\n",
       "      <td>0.854807</td>\n",
       "      <td>513.0</td>\n",
       "      <td>4.0</td>\n",
       "      <td>1000.0</td>\n",
       "      <td>500-549</td>\n",
       "    </tr>\n",
       "    <tr>\n",
       "      <th>3</th>\n",
       "      <td>4</td>\n",
       "      <td>504</td>\n",
       "      <td>0.336938</td>\n",
       "      <td>224.0</td>\n",
       "      <td>2.0</td>\n",
       "      <td>1000.0</td>\n",
       "      <td>500-549</td>\n",
       "    </tr>\n",
       "    <tr>\n",
       "      <th>4</th>\n",
       "      <td>5</td>\n",
       "      <td>708</td>\n",
       "      <td>0.586151</td>\n",
       "      <td>18090.0</td>\n",
       "      <td>2.0</td>\n",
       "      <td>40000.0</td>\n",
       "      <td>700-749</td>\n",
       "    </tr>\n",
       "  </tbody>\n",
       "</table>\n",
       "</div>"
      ],
      "text/plain": [
       "   cust_id  credit_score  credit_utilisation  outstanding_debt  \\\n",
       "0        1           749            0.585171           19571.0   \n",
       "1        2           587            0.107928          161644.0   \n",
       "2        3           544            0.854807             513.0   \n",
       "3        4           504            0.336938             224.0   \n",
       "4        5           708            0.586151           18090.0   \n",
       "\n",
       "   credit_inquiries_last_6_months  credit_limit credit_score_range  \n",
       "0                             0.0       40000.0            700-749  \n",
       "1                             2.0        1250.0            550-599  \n",
       "2                             4.0        1000.0            500-549  \n",
       "3                             2.0        1000.0            500-549  \n",
       "4                             2.0       40000.0            700-749  "
      ]
     },
     "execution_count": 50,
     "metadata": {},
     "output_type": "execute_result"
    }
   ],
   "source": [
    "df_cs_clean1.head()"
   ]
  },
  {
   "cell_type": "code",
   "execution_count": 51,
   "id": "ac7e6a09-7c2f-4074-adfe-f55721e368f2",
   "metadata": {},
   "outputs": [
    {
     "name": "stderr",
     "output_type": "stream",
     "text": [
      "/var/folders/gn/msf4ty3s5j30lw19_2_v3dq40000gn/T/ipykernel_11265/1695654465.py:1: FutureWarning: The default of observed=False is deprecated and will be changed to True in a future version of pandas. Pass observed=False to retain current behavior or observed=True to adopt the future default and silence this warning.\n",
      "  mode_df=df_cs_clean1.groupby(\"credit_score_range\")[\"credit_limit\"].agg(lambda x: x.mode().iloc[0]).reset_index()\n"
     ]
    },
    {
     "data": {
      "text/html": [
       "<div>\n",
       "<style scoped>\n",
       "    .dataframe tbody tr th:only-of-type {\n",
       "        vertical-align: middle;\n",
       "    }\n",
       "\n",
       "    .dataframe tbody tr th {\n",
       "        vertical-align: top;\n",
       "    }\n",
       "\n",
       "    .dataframe thead th {\n",
       "        text-align: right;\n",
       "    }\n",
       "</style>\n",
       "<table border=\"1\" class=\"dataframe\">\n",
       "  <thead>\n",
       "    <tr style=\"text-align: right;\">\n",
       "      <th></th>\n",
       "      <th>credit_score_range</th>\n",
       "      <th>credit_limit</th>\n",
       "    </tr>\n",
       "  </thead>\n",
       "  <tbody>\n",
       "    <tr>\n",
       "      <th>0</th>\n",
       "      <td>300-449</td>\n",
       "      <td>500.0</td>\n",
       "    </tr>\n",
       "    <tr>\n",
       "      <th>1</th>\n",
       "      <td>450-499</td>\n",
       "      <td>750.0</td>\n",
       "    </tr>\n",
       "    <tr>\n",
       "      <th>2</th>\n",
       "      <td>500-549</td>\n",
       "      <td>1000.0</td>\n",
       "    </tr>\n",
       "    <tr>\n",
       "      <th>3</th>\n",
       "      <td>550-599</td>\n",
       "      <td>1250.0</td>\n",
       "    </tr>\n",
       "    <tr>\n",
       "      <th>4</th>\n",
       "      <td>600-649</td>\n",
       "      <td>1500.0</td>\n",
       "    </tr>\n",
       "    <tr>\n",
       "      <th>5</th>\n",
       "      <td>650-699</td>\n",
       "      <td>20000.0</td>\n",
       "    </tr>\n",
       "    <tr>\n",
       "      <th>6</th>\n",
       "      <td>700-749</td>\n",
       "      <td>40000.0</td>\n",
       "    </tr>\n",
       "    <tr>\n",
       "      <th>7</th>\n",
       "      <td>750-799</td>\n",
       "      <td>60000.0</td>\n",
       "    </tr>\n",
       "  </tbody>\n",
       "</table>\n",
       "</div>"
      ],
      "text/plain": [
       "  credit_score_range  credit_limit\n",
       "0            300-449         500.0\n",
       "1            450-499         750.0\n",
       "2            500-549        1000.0\n",
       "3            550-599        1250.0\n",
       "4            600-649        1500.0\n",
       "5            650-699       20000.0\n",
       "6            700-749       40000.0\n",
       "7            750-799       60000.0"
      ]
     },
     "execution_count": 51,
     "metadata": {},
     "output_type": "execute_result"
    }
   ],
   "source": [
    "mode_df=df_cs_clean1.groupby(\"credit_score_range\")[\"credit_limit\"].agg(lambda x: x.mode().iloc[0]).reset_index()\n",
    "mode_df"
   ]
  },
  {
   "cell_type": "code",
   "execution_count": 52,
   "id": "950bb3f6-f748-42aa-a4c9-ace9e7eccdb8",
   "metadata": {},
   "outputs": [
    {
     "data": {
      "text/html": [
       "<div>\n",
       "<style scoped>\n",
       "    .dataframe tbody tr th:only-of-type {\n",
       "        vertical-align: middle;\n",
       "    }\n",
       "\n",
       "    .dataframe tbody tr th {\n",
       "        vertical-align: top;\n",
       "    }\n",
       "\n",
       "    .dataframe thead th {\n",
       "        text-align: right;\n",
       "    }\n",
       "</style>\n",
       "<table border=\"1\" class=\"dataframe\">\n",
       "  <thead>\n",
       "    <tr style=\"text-align: right;\">\n",
       "      <th></th>\n",
       "      <th>cust_id</th>\n",
       "      <th>credit_score</th>\n",
       "      <th>credit_utilisation</th>\n",
       "      <th>outstanding_debt</th>\n",
       "      <th>credit_inquiries_last_6_months</th>\n",
       "      <th>credit_limit</th>\n",
       "      <th>credit_score_range</th>\n",
       "    </tr>\n",
       "  </thead>\n",
       "  <tbody>\n",
       "    <tr>\n",
       "      <th>10</th>\n",
       "      <td>11</td>\n",
       "      <td>679</td>\n",
       "      <td>0.557450</td>\n",
       "      <td>9187.0</td>\n",
       "      <td>2.0</td>\n",
       "      <td>NaN</td>\n",
       "      <td>650-699</td>\n",
       "    </tr>\n",
       "    <tr>\n",
       "      <th>35</th>\n",
       "      <td>36</td>\n",
       "      <td>790</td>\n",
       "      <td>0.112535</td>\n",
       "      <td>4261.0</td>\n",
       "      <td>1.0</td>\n",
       "      <td>NaN</td>\n",
       "      <td>750-799</td>\n",
       "    </tr>\n",
       "    <tr>\n",
       "      <th>37</th>\n",
       "      <td>38</td>\n",
       "      <td>514</td>\n",
       "      <td>0.296971</td>\n",
       "      <td>238.0</td>\n",
       "      <td>2.0</td>\n",
       "      <td>NaN</td>\n",
       "      <td>500-549</td>\n",
       "    </tr>\n",
       "    <tr>\n",
       "      <th>45</th>\n",
       "      <td>46</td>\n",
       "      <td>761</td>\n",
       "      <td>0.596041</td>\n",
       "      <td>24234.0</td>\n",
       "      <td>2.0</td>\n",
       "      <td>NaN</td>\n",
       "      <td>750-799</td>\n",
       "    </tr>\n",
       "    <tr>\n",
       "      <th>64</th>\n",
       "      <td>65</td>\n",
       "      <td>734</td>\n",
       "      <td>0.473715</td>\n",
       "      <td>13631.0</td>\n",
       "      <td>0.0</td>\n",
       "      <td>NaN</td>\n",
       "      <td>700-749</td>\n",
       "    </tr>\n",
       "  </tbody>\n",
       "</table>\n",
       "</div>"
      ],
      "text/plain": [
       "    cust_id  credit_score  credit_utilisation  outstanding_debt  \\\n",
       "10       11           679            0.557450            9187.0   \n",
       "35       36           790            0.112535            4261.0   \n",
       "37       38           514            0.296971             238.0   \n",
       "45       46           761            0.596041           24234.0   \n",
       "64       65           734            0.473715           13631.0   \n",
       "\n",
       "    credit_inquiries_last_6_months  credit_limit credit_score_range  \n",
       "10                             2.0           NaN            650-699  \n",
       "35                             1.0           NaN            750-799  \n",
       "37                             2.0           NaN            500-549  \n",
       "45                             2.0           NaN            750-799  \n",
       "64                             0.0           NaN            700-749  "
      ]
     },
     "execution_count": 52,
     "metadata": {},
     "output_type": "execute_result"
    }
   ],
   "source": [
    "df_cs_clean1[df_cs_clean1.credit_limit.isnull()].head()"
   ]
  },
  {
   "cell_type": "code",
   "execution_count": 53,
   "id": "85205a6a-1bfe-402c-a4e5-51a8b0d9bb50",
   "metadata": {},
   "outputs": [],
   "source": [
    "# we will these null value in credit limt by mode_df"
   ]
  },
  {
   "cell_type": "code",
   "execution_count": 54,
   "id": "14c83368-af48-4c41-9180-e7a7f57935bd",
   "metadata": {},
   "outputs": [
    {
     "data": {
      "text/html": [
       "<div>\n",
       "<style scoped>\n",
       "    .dataframe tbody tr th:only-of-type {\n",
       "        vertical-align: middle;\n",
       "    }\n",
       "\n",
       "    .dataframe tbody tr th {\n",
       "        vertical-align: top;\n",
       "    }\n",
       "\n",
       "    .dataframe thead th {\n",
       "        text-align: right;\n",
       "    }\n",
       "</style>\n",
       "<table border=\"1\" class=\"dataframe\">\n",
       "  <thead>\n",
       "    <tr style=\"text-align: right;\">\n",
       "      <th></th>\n",
       "      <th>cust_id</th>\n",
       "      <th>credit_score</th>\n",
       "      <th>credit_utilisation</th>\n",
       "      <th>outstanding_debt</th>\n",
       "      <th>credit_inquiries_last_6_months</th>\n",
       "      <th>credit_limit_x</th>\n",
       "      <th>credit_score_range</th>\n",
       "      <th>credit_limit_y</th>\n",
       "    </tr>\n",
       "  </thead>\n",
       "  <tbody>\n",
       "    <tr>\n",
       "      <th>0</th>\n",
       "      <td>1</td>\n",
       "      <td>749</td>\n",
       "      <td>0.585171</td>\n",
       "      <td>19571.0</td>\n",
       "      <td>0.0</td>\n",
       "      <td>40000.0</td>\n",
       "      <td>700-749</td>\n",
       "      <td>40000.0</td>\n",
       "    </tr>\n",
       "    <tr>\n",
       "      <th>1</th>\n",
       "      <td>2</td>\n",
       "      <td>587</td>\n",
       "      <td>0.107928</td>\n",
       "      <td>161644.0</td>\n",
       "      <td>2.0</td>\n",
       "      <td>1250.0</td>\n",
       "      <td>550-599</td>\n",
       "      <td>1250.0</td>\n",
       "    </tr>\n",
       "    <tr>\n",
       "      <th>2</th>\n",
       "      <td>3</td>\n",
       "      <td>544</td>\n",
       "      <td>0.854807</td>\n",
       "      <td>513.0</td>\n",
       "      <td>4.0</td>\n",
       "      <td>1000.0</td>\n",
       "      <td>500-549</td>\n",
       "      <td>1000.0</td>\n",
       "    </tr>\n",
       "    <tr>\n",
       "      <th>3</th>\n",
       "      <td>4</td>\n",
       "      <td>504</td>\n",
       "      <td>0.336938</td>\n",
       "      <td>224.0</td>\n",
       "      <td>2.0</td>\n",
       "      <td>1000.0</td>\n",
       "      <td>500-549</td>\n",
       "      <td>1000.0</td>\n",
       "    </tr>\n",
       "    <tr>\n",
       "      <th>4</th>\n",
       "      <td>5</td>\n",
       "      <td>708</td>\n",
       "      <td>0.586151</td>\n",
       "      <td>18090.0</td>\n",
       "      <td>2.0</td>\n",
       "      <td>40000.0</td>\n",
       "      <td>700-749</td>\n",
       "      <td>40000.0</td>\n",
       "    </tr>\n",
       "    <tr>\n",
       "      <th>...</th>\n",
       "      <td>...</td>\n",
       "      <td>...</td>\n",
       "      <td>...</td>\n",
       "      <td>...</td>\n",
       "      <td>...</td>\n",
       "      <td>...</td>\n",
       "      <td>...</td>\n",
       "      <td>...</td>\n",
       "    </tr>\n",
       "    <tr>\n",
       "      <th>995</th>\n",
       "      <td>996</td>\n",
       "      <td>564</td>\n",
       "      <td>0.702963</td>\n",
       "      <td>688.0</td>\n",
       "      <td>2.0</td>\n",
       "      <td>1250.0</td>\n",
       "      <td>550-599</td>\n",
       "      <td>1250.0</td>\n",
       "    </tr>\n",
       "    <tr>\n",
       "      <th>996</th>\n",
       "      <td>997</td>\n",
       "      <td>774</td>\n",
       "      <td>0.465462</td>\n",
       "      <td>17139.0</td>\n",
       "      <td>0.0</td>\n",
       "      <td>60000.0</td>\n",
       "      <td>750-799</td>\n",
       "      <td>60000.0</td>\n",
       "    </tr>\n",
       "    <tr>\n",
       "      <th>997</th>\n",
       "      <td>998</td>\n",
       "      <td>529</td>\n",
       "      <td>0.585856</td>\n",
       "      <td>386.0</td>\n",
       "      <td>3.0</td>\n",
       "      <td>1000.0</td>\n",
       "      <td>500-549</td>\n",
       "      <td>1000.0</td>\n",
       "    </tr>\n",
       "    <tr>\n",
       "      <th>998</th>\n",
       "      <td>999</td>\n",
       "      <td>725</td>\n",
       "      <td>0.249670</td>\n",
       "      <td>6973.0</td>\n",
       "      <td>2.0</td>\n",
       "      <td>40000.0</td>\n",
       "      <td>700-749</td>\n",
       "      <td>40000.0</td>\n",
       "    </tr>\n",
       "    <tr>\n",
       "      <th>999</th>\n",
       "      <td>1000</td>\n",
       "      <td>775</td>\n",
       "      <td>0.696050</td>\n",
       "      <td>33956.0</td>\n",
       "      <td>1.0</td>\n",
       "      <td>60000.0</td>\n",
       "      <td>750-799</td>\n",
       "      <td>60000.0</td>\n",
       "    </tr>\n",
       "  </tbody>\n",
       "</table>\n",
       "<p>1000 rows × 8 columns</p>\n",
       "</div>"
      ],
      "text/plain": [
       "     cust_id  credit_score  credit_utilisation  outstanding_debt  \\\n",
       "0          1           749            0.585171           19571.0   \n",
       "1          2           587            0.107928          161644.0   \n",
       "2          3           544            0.854807             513.0   \n",
       "3          4           504            0.336938             224.0   \n",
       "4          5           708            0.586151           18090.0   \n",
       "..       ...           ...                 ...               ...   \n",
       "995      996           564            0.702963             688.0   \n",
       "996      997           774            0.465462           17139.0   \n",
       "997      998           529            0.585856             386.0   \n",
       "998      999           725            0.249670            6973.0   \n",
       "999     1000           775            0.696050           33956.0   \n",
       "\n",
       "     credit_inquiries_last_6_months  credit_limit_x credit_score_range  \\\n",
       "0                               0.0         40000.0            700-749   \n",
       "1                               2.0          1250.0            550-599   \n",
       "2                               4.0          1000.0            500-549   \n",
       "3                               2.0          1000.0            500-549   \n",
       "4                               2.0         40000.0            700-749   \n",
       "..                              ...             ...                ...   \n",
       "995                             2.0          1250.0            550-599   \n",
       "996                             0.0         60000.0            750-799   \n",
       "997                             3.0          1000.0            500-549   \n",
       "998                             2.0         40000.0            700-749   \n",
       "999                             1.0         60000.0            750-799   \n",
       "\n",
       "     credit_limit_y  \n",
       "0           40000.0  \n",
       "1            1250.0  \n",
       "2            1000.0  \n",
       "3            1000.0  \n",
       "4           40000.0  \n",
       "..              ...  \n",
       "995          1250.0  \n",
       "996         60000.0  \n",
       "997          1000.0  \n",
       "998         40000.0  \n",
       "999         60000.0  \n",
       "\n",
       "[1000 rows x 8 columns]"
      ]
     },
     "execution_count": 54,
     "metadata": {},
     "output_type": "execute_result"
    }
   ],
   "source": [
    "pd.merge(df_cs_clean1,mode_df,on=\"credit_score_range\") # WE will merge to datafarme on credit_score_range like we do in sq"
   ]
  },
  {
   "cell_type": "code",
   "execution_count": 55,
   "id": "976e7ec3-c881-4b6f-a237-fe7a01619d0f",
   "metadata": {},
   "outputs": [
    {
     "data": {
      "text/html": [
       "<div>\n",
       "<style scoped>\n",
       "    .dataframe tbody tr th:only-of-type {\n",
       "        vertical-align: middle;\n",
       "    }\n",
       "\n",
       "    .dataframe tbody tr th {\n",
       "        vertical-align: top;\n",
       "    }\n",
       "\n",
       "    .dataframe thead th {\n",
       "        text-align: right;\n",
       "    }\n",
       "</style>\n",
       "<table border=\"1\" class=\"dataframe\">\n",
       "  <thead>\n",
       "    <tr style=\"text-align: right;\">\n",
       "      <th></th>\n",
       "      <th>cust_id</th>\n",
       "      <th>credit_score</th>\n",
       "      <th>credit_utilisation</th>\n",
       "      <th>outstanding_debt</th>\n",
       "      <th>credit_inquiries_last_6_months</th>\n",
       "      <th>credit_limit</th>\n",
       "      <th>credit_score_range</th>\n",
       "      <th>credit_limit_mode</th>\n",
       "    </tr>\n",
       "  </thead>\n",
       "  <tbody>\n",
       "    <tr>\n",
       "      <th>472</th>\n",
       "      <td>473</td>\n",
       "      <td>437</td>\n",
       "      <td>0.457461</td>\n",
       "      <td>179.0</td>\n",
       "      <td>2.0</td>\n",
       "      <td>500.0</td>\n",
       "      <td>300-449</td>\n",
       "      <td>500.0</td>\n",
       "    </tr>\n",
       "    <tr>\n",
       "      <th>335</th>\n",
       "      <td>336</td>\n",
       "      <td>758</td>\n",
       "      <td>0.676826</td>\n",
       "      <td>25089.0</td>\n",
       "      <td>3.0</td>\n",
       "      <td>60000.0</td>\n",
       "      <td>750-799</td>\n",
       "      <td>60000.0</td>\n",
       "    </tr>\n",
       "    <tr>\n",
       "      <th>820</th>\n",
       "      <td>821</td>\n",
       "      <td>426</td>\n",
       "      <td>0.578425</td>\n",
       "      <td>177.0</td>\n",
       "      <td>3.0</td>\n",
       "      <td>NaN</td>\n",
       "      <td>300-449</td>\n",
       "      <td>500.0</td>\n",
       "    </tr>\n",
       "  </tbody>\n",
       "</table>\n",
       "</div>"
      ],
      "text/plain": [
       "     cust_id  credit_score  credit_utilisation  outstanding_debt  \\\n",
       "472      473           437            0.457461             179.0   \n",
       "335      336           758            0.676826           25089.0   \n",
       "820      821           426            0.578425             177.0   \n",
       "\n",
       "     credit_inquiries_last_6_months  credit_limit credit_score_range  \\\n",
       "472                             2.0         500.0            300-449   \n",
       "335                             3.0       60000.0            750-799   \n",
       "820                             3.0           NaN            300-449   \n",
       "\n",
       "     credit_limit_mode  \n",
       "472              500.0  \n",
       "335            60000.0  \n",
       "820              500.0  "
      ]
     },
     "execution_count": 55,
     "metadata": {},
     "output_type": "execute_result"
    }
   ],
   "source": [
    "# As we see after merginif we got credit_limit_x and credit_limit_y which we don't want, so we add suffix\n",
    "df_cs_clean2=pd.merge(df_cs_clean1,mode_df,on=\"credit_score_range\",suffixes=(\"\",\"_mode\"))\n",
    "df_cs_clean2.sample(3)"
   ]
  },
  {
   "cell_type": "code",
   "execution_count": 56,
   "id": "005ffd3e-9608-4cfc-9f09-359d713ce78b",
   "metadata": {},
   "outputs": [
    {
     "data": {
      "text/html": [
       "<div>\n",
       "<style scoped>\n",
       "    .dataframe tbody tr th:only-of-type {\n",
       "        vertical-align: middle;\n",
       "    }\n",
       "\n",
       "    .dataframe tbody tr th {\n",
       "        vertical-align: top;\n",
       "    }\n",
       "\n",
       "    .dataframe thead th {\n",
       "        text-align: right;\n",
       "    }\n",
       "</style>\n",
       "<table border=\"1\" class=\"dataframe\">\n",
       "  <thead>\n",
       "    <tr style=\"text-align: right;\">\n",
       "      <th></th>\n",
       "      <th>cust_id</th>\n",
       "      <th>credit_score</th>\n",
       "      <th>credit_utilisation</th>\n",
       "      <th>outstanding_debt</th>\n",
       "      <th>credit_inquiries_last_6_months</th>\n",
       "      <th>credit_limit</th>\n",
       "      <th>credit_score_range</th>\n",
       "      <th>credit_limit_mode</th>\n",
       "    </tr>\n",
       "  </thead>\n",
       "  <tbody>\n",
       "    <tr>\n",
       "      <th>10</th>\n",
       "      <td>11</td>\n",
       "      <td>679</td>\n",
       "      <td>0.557450</td>\n",
       "      <td>9187.0</td>\n",
       "      <td>2.0</td>\n",
       "      <td>NaN</td>\n",
       "      <td>650-699</td>\n",
       "      <td>20000.0</td>\n",
       "    </tr>\n",
       "    <tr>\n",
       "      <th>35</th>\n",
       "      <td>36</td>\n",
       "      <td>790</td>\n",
       "      <td>0.112535</td>\n",
       "      <td>4261.0</td>\n",
       "      <td>1.0</td>\n",
       "      <td>NaN</td>\n",
       "      <td>750-799</td>\n",
       "      <td>60000.0</td>\n",
       "    </tr>\n",
       "    <tr>\n",
       "      <th>37</th>\n",
       "      <td>38</td>\n",
       "      <td>514</td>\n",
       "      <td>0.296971</td>\n",
       "      <td>238.0</td>\n",
       "      <td>2.0</td>\n",
       "      <td>NaN</td>\n",
       "      <td>500-549</td>\n",
       "      <td>1000.0</td>\n",
       "    </tr>\n",
       "    <tr>\n",
       "      <th>45</th>\n",
       "      <td>46</td>\n",
       "      <td>761</td>\n",
       "      <td>0.596041</td>\n",
       "      <td>24234.0</td>\n",
       "      <td>2.0</td>\n",
       "      <td>NaN</td>\n",
       "      <td>750-799</td>\n",
       "      <td>60000.0</td>\n",
       "    </tr>\n",
       "    <tr>\n",
       "      <th>64</th>\n",
       "      <td>65</td>\n",
       "      <td>734</td>\n",
       "      <td>0.473715</td>\n",
       "      <td>13631.0</td>\n",
       "      <td>0.0</td>\n",
       "      <td>NaN</td>\n",
       "      <td>700-749</td>\n",
       "      <td>40000.0</td>\n",
       "    </tr>\n",
       "  </tbody>\n",
       "</table>\n",
       "</div>"
      ],
      "text/plain": [
       "    cust_id  credit_score  credit_utilisation  outstanding_debt  \\\n",
       "10       11           679            0.557450            9187.0   \n",
       "35       36           790            0.112535            4261.0   \n",
       "37       38           514            0.296971             238.0   \n",
       "45       46           761            0.596041           24234.0   \n",
       "64       65           734            0.473715           13631.0   \n",
       "\n",
       "    credit_inquiries_last_6_months  credit_limit credit_score_range  \\\n",
       "10                             2.0           NaN            650-699   \n",
       "35                             1.0           NaN            750-799   \n",
       "37                             2.0           NaN            500-549   \n",
       "45                             2.0           NaN            750-799   \n",
       "64                             0.0           NaN            700-749   \n",
       "\n",
       "    credit_limit_mode  \n",
       "10            20000.0  \n",
       "35            60000.0  \n",
       "37             1000.0  \n",
       "45            60000.0  \n",
       "64            40000.0  "
      ]
     },
     "execution_count": 56,
     "metadata": {},
     "output_type": "execute_result"
    }
   ],
   "source": [
    "df_cs_clean2[df_cs_clean2.credit_limit.isnull()].head()"
   ]
  },
  {
   "cell_type": "code",
   "execution_count": 57,
   "id": "e2b5b598-4e83-4f84-90df-8319e6aab0db",
   "metadata": {},
   "outputs": [
    {
     "name": "stderr",
     "output_type": "stream",
     "text": [
      "/var/folders/gn/msf4ty3s5j30lw19_2_v3dq40000gn/T/ipykernel_11265/4270953714.py:1: FutureWarning: A value is trying to be set on a copy of a DataFrame or Series through chained assignment using an inplace method.\n",
      "The behavior will change in pandas 3.0. This inplace method will never work because the intermediate object on which we are setting values always behaves as a copy.\n",
      "\n",
      "For example, when doing 'df[col].method(value, inplace=True)', try using 'df.method({col: value}, inplace=True)' or df[col] = df[col].method(value) instead, to perform the operation inplace on the original object.\n",
      "\n",
      "\n",
      "  df_cs_clean2['credit_limit'].fillna(df_cs_clean2['credit_limit_mode'],inplace=True) #we will fill na with credit limit mode\n"
     ]
    }
   ],
   "source": [
    "df_cs_clean2['credit_limit'].fillna(df_cs_clean2['credit_limit_mode'],inplace=True) #we will fill na with credit limit mode"
   ]
  },
  {
   "cell_type": "code",
   "execution_count": 58,
   "id": "94573170-67ad-45c8-a629-5f294e175e66",
   "metadata": {},
   "outputs": [
    {
     "data": {
      "text/html": [
       "<div>\n",
       "<style scoped>\n",
       "    .dataframe tbody tr th:only-of-type {\n",
       "        vertical-align: middle;\n",
       "    }\n",
       "\n",
       "    .dataframe tbody tr th {\n",
       "        vertical-align: top;\n",
       "    }\n",
       "\n",
       "    .dataframe thead th {\n",
       "        text-align: right;\n",
       "    }\n",
       "</style>\n",
       "<table border=\"1\" class=\"dataframe\">\n",
       "  <thead>\n",
       "    <tr style=\"text-align: right;\">\n",
       "      <th></th>\n",
       "      <th>cust_id</th>\n",
       "      <th>credit_score</th>\n",
       "      <th>credit_utilisation</th>\n",
       "      <th>outstanding_debt</th>\n",
       "      <th>credit_inquiries_last_6_months</th>\n",
       "      <th>credit_limit</th>\n",
       "      <th>credit_score_range</th>\n",
       "      <th>credit_limit_mode</th>\n",
       "    </tr>\n",
       "  </thead>\n",
       "  <tbody>\n",
       "  </tbody>\n",
       "</table>\n",
       "</div>"
      ],
      "text/plain": [
       "Empty DataFrame\n",
       "Columns: [cust_id, credit_score, credit_utilisation, outstanding_debt, credit_inquiries_last_6_months, credit_limit, credit_score_range, credit_limit_mode]\n",
       "Index: []"
      ]
     },
     "execution_count": 58,
     "metadata": {},
     "output_type": "execute_result"
    }
   ],
   "source": [
    "df_cs_clean2[df_cs_clean2.credit_limit.isnull()].head()"
   ]
  },
  {
   "cell_type": "code",
   "execution_count": 59,
   "id": "89810fcd-e7c4-4894-88de-082b3e676054",
   "metadata": {},
   "outputs": [],
   "source": [
    "df_cs_clean3=df_cs_clean2.copy()"
   ]
  },
  {
   "cell_type": "code",
   "execution_count": 60,
   "id": "6941a250-6c55-44ff-a026-79e97041b361",
   "metadata": {},
   "outputs": [
    {
     "data": {
      "text/html": [
       "<div>\n",
       "<style scoped>\n",
       "    .dataframe tbody tr th:only-of-type {\n",
       "        vertical-align: middle;\n",
       "    }\n",
       "\n",
       "    .dataframe tbody tr th {\n",
       "        vertical-align: top;\n",
       "    }\n",
       "\n",
       "    .dataframe thead th {\n",
       "        text-align: right;\n",
       "    }\n",
       "</style>\n",
       "<table border=\"1\" class=\"dataframe\">\n",
       "  <thead>\n",
       "    <tr style=\"text-align: right;\">\n",
       "      <th></th>\n",
       "      <th>cust_id</th>\n",
       "      <th>credit_score</th>\n",
       "      <th>credit_utilisation</th>\n",
       "      <th>outstanding_debt</th>\n",
       "      <th>credit_inquiries_last_6_months</th>\n",
       "      <th>credit_limit</th>\n",
       "      <th>credit_limit_mode</th>\n",
       "    </tr>\n",
       "  </thead>\n",
       "  <tbody>\n",
       "    <tr>\n",
       "      <th>count</th>\n",
       "      <td>1000.000000</td>\n",
       "      <td>1000.000000</td>\n",
       "      <td>1000.000000</td>\n",
       "      <td>1000.000000</td>\n",
       "      <td>1000.000000</td>\n",
       "      <td>1000.00000</td>\n",
       "      <td>1000.000000</td>\n",
       "    </tr>\n",
       "    <tr>\n",
       "      <th>mean</th>\n",
       "      <td>500.500000</td>\n",
       "      <td>589.182000</td>\n",
       "      <td>0.498950</td>\n",
       "      <td>9683.597000</td>\n",
       "      <td>1.955000</td>\n",
       "      <td>19733.75000</td>\n",
       "      <td>19912.500000</td>\n",
       "    </tr>\n",
       "    <tr>\n",
       "      <th>std</th>\n",
       "      <td>288.819436</td>\n",
       "      <td>152.284929</td>\n",
       "      <td>0.233139</td>\n",
       "      <td>25255.893671</td>\n",
       "      <td>1.414559</td>\n",
       "      <td>24717.43818</td>\n",
       "      <td>24840.914633</td>\n",
       "    </tr>\n",
       "    <tr>\n",
       "      <th>min</th>\n",
       "      <td>1.000000</td>\n",
       "      <td>300.000000</td>\n",
       "      <td>0.103761</td>\n",
       "      <td>33.000000</td>\n",
       "      <td>0.000000</td>\n",
       "      <td>500.00000</td>\n",
       "      <td>500.000000</td>\n",
       "    </tr>\n",
       "    <tr>\n",
       "      <th>25%</th>\n",
       "      <td>250.750000</td>\n",
       "      <td>460.000000</td>\n",
       "      <td>0.293917</td>\n",
       "      <td>221.000000</td>\n",
       "      <td>1.000000</td>\n",
       "      <td>750.00000</td>\n",
       "      <td>750.000000</td>\n",
       "    </tr>\n",
       "    <tr>\n",
       "      <th>50%</th>\n",
       "      <td>500.500000</td>\n",
       "      <td>601.500000</td>\n",
       "      <td>0.487422</td>\n",
       "      <td>550.000000</td>\n",
       "      <td>2.000000</td>\n",
       "      <td>1500.00000</td>\n",
       "      <td>1500.000000</td>\n",
       "    </tr>\n",
       "    <tr>\n",
       "      <th>75%</th>\n",
       "      <td>750.250000</td>\n",
       "      <td>738.000000</td>\n",
       "      <td>0.697829</td>\n",
       "      <td>11819.500000</td>\n",
       "      <td>3.000000</td>\n",
       "      <td>40000.00000</td>\n",
       "      <td>40000.000000</td>\n",
       "    </tr>\n",
       "    <tr>\n",
       "      <th>max</th>\n",
       "      <td>1000.000000</td>\n",
       "      <td>799.000000</td>\n",
       "      <td>0.899648</td>\n",
       "      <td>209901.000000</td>\n",
       "      <td>4.000000</td>\n",
       "      <td>60000.00000</td>\n",
       "      <td>60000.000000</td>\n",
       "    </tr>\n",
       "  </tbody>\n",
       "</table>\n",
       "</div>"
      ],
      "text/plain": [
       "           cust_id  credit_score  credit_utilisation  outstanding_debt  \\\n",
       "count  1000.000000   1000.000000         1000.000000       1000.000000   \n",
       "mean    500.500000    589.182000            0.498950       9683.597000   \n",
       "std     288.819436    152.284929            0.233139      25255.893671   \n",
       "min       1.000000    300.000000            0.103761         33.000000   \n",
       "25%     250.750000    460.000000            0.293917        221.000000   \n",
       "50%     500.500000    601.500000            0.487422        550.000000   \n",
       "75%     750.250000    738.000000            0.697829      11819.500000   \n",
       "max    1000.000000    799.000000            0.899648     209901.000000   \n",
       "\n",
       "       credit_inquiries_last_6_months  credit_limit  credit_limit_mode  \n",
       "count                     1000.000000    1000.00000        1000.000000  \n",
       "mean                         1.955000   19733.75000       19912.500000  \n",
       "std                          1.414559   24717.43818       24840.914633  \n",
       "min                          0.000000     500.00000         500.000000  \n",
       "25%                          1.000000     750.00000         750.000000  \n",
       "50%                          2.000000    1500.00000        1500.000000  \n",
       "75%                          3.000000   40000.00000       40000.000000  \n",
       "max                          4.000000   60000.00000       60000.000000  "
      ]
     },
     "execution_count": 60,
     "metadata": {},
     "output_type": "execute_result"
    }
   ],
   "source": [
    "df_cs_clean3.describe()"
   ]
  },
  {
   "cell_type": "code",
   "execution_count": 61,
   "id": "9cac7754-9f84-4b66-8ba9-c6595ff4561a",
   "metadata": {},
   "outputs": [
    {
     "data": {
      "text/plain": [
       "<Axes: ylabel='outstanding_debt'>"
      ]
     },
     "execution_count": 61,
     "metadata": {},
     "output_type": "execute_result"
    },
    {
     "data": {
      "image/png": "[encoded data removed]",
      "text/plain": [
       "<Figure size 640x480 with 1 Axes>"
      ]
     },
     "metadata": {},
     "output_type": "display_data"
    }
   ],
   "source": [
    "sns.boxplot(df_cs_clean3.outstanding_debt)"
   ]
  },
  {
   "cell_type": "code",
   "execution_count": 62,
   "id": "eaa788b8-6562-40e0-86cf-ee442218e38b",
   "metadata": {},
   "outputs": [],
   "source": [
    "# we  know in our data max credit limit is 60000, outstanding above that we can treat as a outliers"
   ]
  },
  {
   "cell_type": "code",
   "execution_count": 63,
   "id": "17880c40-cff9-4a23-88db-e5944d761a99",
   "metadata": {},
   "outputs": [
    {
     "data": {
      "text/plain": [
       "(20, 8)"
      ]
     },
     "execution_count": 63,
     "metadata": {},
     "output_type": "execute_result"
    }
   ],
   "source": [
    "df_cs_clean3[df_cs_clean3.outstanding_debt>df_cs_clean3.credit_limit].shape\n"
   ]
  },
  {
   "cell_type": "code",
   "execution_count": 64,
   "id": "3feab528-f4d6-4b87-8dec-8e3a19f89a01",
   "metadata": {},
   "outputs": [
    {
     "data": {
      "text/html": [
       "<div>\n",
       "<style scoped>\n",
       "    .dataframe tbody tr th:only-of-type {\n",
       "        vertical-align: middle;\n",
       "    }\n",
       "\n",
       "    .dataframe tbody tr th {\n",
       "        vertical-align: top;\n",
       "    }\n",
       "\n",
       "    .dataframe thead th {\n",
       "        text-align: right;\n",
       "    }\n",
       "</style>\n",
       "<table border=\"1\" class=\"dataframe\">\n",
       "  <thead>\n",
       "    <tr style=\"text-align: right;\">\n",
       "      <th></th>\n",
       "      <th>cust_id</th>\n",
       "      <th>credit_score</th>\n",
       "      <th>credit_utilisation</th>\n",
       "      <th>outstanding_debt</th>\n",
       "      <th>credit_inquiries_last_6_months</th>\n",
       "      <th>credit_limit</th>\n",
       "      <th>credit_score_range</th>\n",
       "      <th>credit_limit_mode</th>\n",
       "    </tr>\n",
       "  </thead>\n",
       "  <tbody>\n",
       "    <tr>\n",
       "      <th>0</th>\n",
       "      <td>1</td>\n",
       "      <td>749</td>\n",
       "      <td>0.585171</td>\n",
       "      <td>19571.0</td>\n",
       "      <td>0.0</td>\n",
       "      <td>40000.0</td>\n",
       "      <td>700-749</td>\n",
       "      <td>40000.0</td>\n",
       "    </tr>\n",
       "    <tr>\n",
       "      <th>1</th>\n",
       "      <td>2</td>\n",
       "      <td>587</td>\n",
       "      <td>0.107928</td>\n",
       "      <td>1250.0</td>\n",
       "      <td>2.0</td>\n",
       "      <td>1250.0</td>\n",
       "      <td>550-599</td>\n",
       "      <td>1250.0</td>\n",
       "    </tr>\n",
       "    <tr>\n",
       "      <th>2</th>\n",
       "      <td>3</td>\n",
       "      <td>544</td>\n",
       "      <td>0.854807</td>\n",
       "      <td>513.0</td>\n",
       "      <td>4.0</td>\n",
       "      <td>1000.0</td>\n",
       "      <td>500-549</td>\n",
       "      <td>1000.0</td>\n",
       "    </tr>\n",
       "    <tr>\n",
       "      <th>3</th>\n",
       "      <td>4</td>\n",
       "      <td>504</td>\n",
       "      <td>0.336938</td>\n",
       "      <td>224.0</td>\n",
       "      <td>2.0</td>\n",
       "      <td>1000.0</td>\n",
       "      <td>500-549</td>\n",
       "      <td>1000.0</td>\n",
       "    </tr>\n",
       "    <tr>\n",
       "      <th>4</th>\n",
       "      <td>5</td>\n",
       "      <td>708</td>\n",
       "      <td>0.586151</td>\n",
       "      <td>18090.0</td>\n",
       "      <td>2.0</td>\n",
       "      <td>40000.0</td>\n",
       "      <td>700-749</td>\n",
       "      <td>40000.0</td>\n",
       "    </tr>\n",
       "    <tr>\n",
       "      <th>...</th>\n",
       "      <td>...</td>\n",
       "      <td>...</td>\n",
       "      <td>...</td>\n",
       "      <td>...</td>\n",
       "      <td>...</td>\n",
       "      <td>...</td>\n",
       "      <td>...</td>\n",
       "      <td>...</td>\n",
       "    </tr>\n",
       "    <tr>\n",
       "      <th>995</th>\n",
       "      <td>996</td>\n",
       "      <td>564</td>\n",
       "      <td>0.702963</td>\n",
       "      <td>688.0</td>\n",
       "      <td>2.0</td>\n",
       "      <td>1250.0</td>\n",
       "      <td>550-599</td>\n",
       "      <td>1250.0</td>\n",
       "    </tr>\n",
       "    <tr>\n",
       "      <th>996</th>\n",
       "      <td>997</td>\n",
       "      <td>774</td>\n",
       "      <td>0.465462</td>\n",
       "      <td>17139.0</td>\n",
       "      <td>0.0</td>\n",
       "      <td>60000.0</td>\n",
       "      <td>750-799</td>\n",
       "      <td>60000.0</td>\n",
       "    </tr>\n",
       "    <tr>\n",
       "      <th>997</th>\n",
       "      <td>998</td>\n",
       "      <td>529</td>\n",
       "      <td>0.585856</td>\n",
       "      <td>386.0</td>\n",
       "      <td>3.0</td>\n",
       "      <td>1000.0</td>\n",
       "      <td>500-549</td>\n",
       "      <td>1000.0</td>\n",
       "    </tr>\n",
       "    <tr>\n",
       "      <th>998</th>\n",
       "      <td>999</td>\n",
       "      <td>725</td>\n",
       "      <td>0.249670</td>\n",
       "      <td>6973.0</td>\n",
       "      <td>2.0</td>\n",
       "      <td>40000.0</td>\n",
       "      <td>700-749</td>\n",
       "      <td>40000.0</td>\n",
       "    </tr>\n",
       "    <tr>\n",
       "      <th>999</th>\n",
       "      <td>1000</td>\n",
       "      <td>775</td>\n",
       "      <td>0.696050</td>\n",
       "      <td>33956.0</td>\n",
       "      <td>1.0</td>\n",
       "      <td>60000.0</td>\n",
       "      <td>750-799</td>\n",
       "      <td>60000.0</td>\n",
       "    </tr>\n",
       "  </tbody>\n",
       "</table>\n",
       "<p>1000 rows × 8 columns</p>\n",
       "</div>"
      ],
      "text/plain": [
       "     cust_id  credit_score  credit_utilisation  outstanding_debt  \\\n",
       "0          1           749            0.585171           19571.0   \n",
       "1          2           587            0.107928            1250.0   \n",
       "2          3           544            0.854807             513.0   \n",
       "3          4           504            0.336938             224.0   \n",
       "4          5           708            0.586151           18090.0   \n",
       "..       ...           ...                 ...               ...   \n",
       "995      996           564            0.702963             688.0   \n",
       "996      997           774            0.465462           17139.0   \n",
       "997      998           529            0.585856             386.0   \n",
       "998      999           725            0.249670            6973.0   \n",
       "999     1000           775            0.696050           33956.0   \n",
       "\n",
       "     credit_inquiries_last_6_months  credit_limit credit_score_range  \\\n",
       "0                               0.0       40000.0            700-749   \n",
       "1                               2.0        1250.0            550-599   \n",
       "2                               4.0        1000.0            500-549   \n",
       "3                               2.0        1000.0            500-549   \n",
       "4                               2.0       40000.0            700-749   \n",
       "..                              ...           ...                ...   \n",
       "995                             2.0        1250.0            550-599   \n",
       "996                             0.0       60000.0            750-799   \n",
       "997                             3.0        1000.0            500-549   \n",
       "998                             2.0       40000.0            700-749   \n",
       "999                             1.0       60000.0            750-799   \n",
       "\n",
       "     credit_limit_mode  \n",
       "0              40000.0  \n",
       "1               1250.0  \n",
       "2               1000.0  \n",
       "3               1000.0  \n",
       "4              40000.0  \n",
       "..                 ...  \n",
       "995             1250.0  \n",
       "996            60000.0  \n",
       "997             1000.0  \n",
       "998            40000.0  \n",
       "999            60000.0  \n",
       "\n",
       "[1000 rows x 8 columns]"
      ]
     },
     "execution_count": 64,
     "metadata": {},
     "output_type": "execute_result"
    }
   ],
   "source": [
    "# we replace outstanding_debt above credit limit with credit limit \n",
    "df_cs_clean3.loc[df_cs_clean3.outstanding_debt>df_cs_clean3.credit_limit,'outstanding_debt']=df_cs_clean3['credit_limit']\n",
    "df_cs_clean3"
   ]
  },
  {
   "cell_type": "code",
   "execution_count": 65,
   "id": "c6d58816-f962-4d39-b192-63be448f9adf",
   "metadata": {},
   "outputs": [
    {
     "data": {
      "text/plain": [
       "(0, 8)"
      ]
     },
     "execution_count": 65,
     "metadata": {},
     "output_type": "execute_result"
    }
   ],
   "source": [
    "df_cs_clean3[df_cs_clean3.outstanding_debt>df_cs_clean3.credit_limit].shape"
   ]
  },
  {
   "cell_type": "markdown",
   "id": "ca069ab9-a7af-431f-95b0-48c543f201e5",
   "metadata": {},
   "source": [
    "Correlation Finding "
   ]
  },
  {
   "cell_type": "code",
   "execution_count": 67,
   "id": "c82d1788-1ea0-4923-8638-6c34ab45a9f5",
   "metadata": {},
   "outputs": [
    {
     "data": {
      "text/html": [
       "<div>\n",
       "<style scoped>\n",
       "    .dataframe tbody tr th:only-of-type {\n",
       "        vertical-align: middle;\n",
       "    }\n",
       "\n",
       "    .dataframe tbody tr th {\n",
       "        vertical-align: top;\n",
       "    }\n",
       "\n",
       "    .dataframe thead th {\n",
       "        text-align: right;\n",
       "    }\n",
       "</style>\n",
       "<table border=\"1\" class=\"dataframe\">\n",
       "  <thead>\n",
       "    <tr style=\"text-align: right;\">\n",
       "      <th></th>\n",
       "      <th>cust_id</th>\n",
       "      <th>name</th>\n",
       "      <th>gender</th>\n",
       "      <th>age</th>\n",
       "      <th>location</th>\n",
       "      <th>occupation</th>\n",
       "      <th>annual_income</th>\n",
       "      <th>marital_status</th>\n",
       "      <th>age_group</th>\n",
       "    </tr>\n",
       "  </thead>\n",
       "  <tbody>\n",
       "    <tr>\n",
       "      <th>0</th>\n",
       "      <td>1</td>\n",
       "      <td>Manya Acharya</td>\n",
       "      <td>Female</td>\n",
       "      <td>51.0</td>\n",
       "      <td>City</td>\n",
       "      <td>Business Owner</td>\n",
       "      <td>358211.0</td>\n",
       "      <td>Married</td>\n",
       "      <td>49-65</td>\n",
       "    </tr>\n",
       "    <tr>\n",
       "      <th>1</th>\n",
       "      <td>2</td>\n",
       "      <td>Anjali Pandey</td>\n",
       "      <td>Female</td>\n",
       "      <td>47.0</td>\n",
       "      <td>City</td>\n",
       "      <td>Consultant</td>\n",
       "      <td>65172.0</td>\n",
       "      <td>Single</td>\n",
       "      <td>26-48</td>\n",
       "    </tr>\n",
       "    <tr>\n",
       "      <th>2</th>\n",
       "      <td>3</td>\n",
       "      <td>Aaryan Chauhan</td>\n",
       "      <td>Male</td>\n",
       "      <td>21.0</td>\n",
       "      <td>City</td>\n",
       "      <td>Freelancer</td>\n",
       "      <td>22378.0</td>\n",
       "      <td>Married</td>\n",
       "      <td>18-25</td>\n",
       "    </tr>\n",
       "    <tr>\n",
       "      <th>3</th>\n",
       "      <td>4</td>\n",
       "      <td>Rudra Bali</td>\n",
       "      <td>Male</td>\n",
       "      <td>24.0</td>\n",
       "      <td>Rural</td>\n",
       "      <td>Freelancer</td>\n",
       "      <td>33563.0</td>\n",
       "      <td>Married</td>\n",
       "      <td>18-25</td>\n",
       "    </tr>\n",
       "    <tr>\n",
       "      <th>4</th>\n",
       "      <td>5</td>\n",
       "      <td>Advait Malik</td>\n",
       "      <td>Male</td>\n",
       "      <td>48.0</td>\n",
       "      <td>City</td>\n",
       "      <td>Consultant</td>\n",
       "      <td>39406.0</td>\n",
       "      <td>Married</td>\n",
       "      <td>26-48</td>\n",
       "    </tr>\n",
       "  </tbody>\n",
       "</table>\n",
       "</div>"
      ],
      "text/plain": [
       "   cust_id            name  gender   age location      occupation  \\\n",
       "0        1   Manya Acharya  Female  51.0     City  Business Owner   \n",
       "1        2   Anjali Pandey  Female  47.0     City      Consultant   \n",
       "2        3  Aaryan Chauhan    Male  21.0     City      Freelancer   \n",
       "3        4      Rudra Bali    Male  24.0    Rural      Freelancer   \n",
       "4        5    Advait Malik    Male  48.0     City      Consultant   \n",
       "\n",
       "   annual_income marital_status age_group  \n",
       "0       358211.0        Married     49-65  \n",
       "1        65172.0         Single     26-48  \n",
       "2        22378.0        Married     18-25  \n",
       "3        33563.0        Married     18-25  \n",
       "4        39406.0        Married     26-48  "
      ]
     },
     "execution_count": 67,
     "metadata": {},
     "output_type": "execute_result"
    }
   ],
   "source": [
    "df_cust.head()"
   ]
  },
  {
   "cell_type": "code",
   "execution_count": 68,
   "id": "0d83934c-9000-434a-9220-9ab278ef5fca",
   "metadata": {},
   "outputs": [
    {
     "data": {
      "text/html": [
       "<div>\n",
       "<style scoped>\n",
       "    .dataframe tbody tr th:only-of-type {\n",
       "        vertical-align: middle;\n",
       "    }\n",
       "\n",
       "    .dataframe tbody tr th {\n",
       "        vertical-align: top;\n",
       "    }\n",
       "\n",
       "    .dataframe thead th {\n",
       "        text-align: right;\n",
       "    }\n",
       "</style>\n",
       "<table border=\"1\" class=\"dataframe\">\n",
       "  <thead>\n",
       "    <tr style=\"text-align: right;\">\n",
       "      <th></th>\n",
       "      <th>cust_id</th>\n",
       "      <th>credit_score</th>\n",
       "      <th>credit_utilisation</th>\n",
       "      <th>outstanding_debt</th>\n",
       "      <th>credit_inquiries_last_6_months</th>\n",
       "      <th>credit_limit</th>\n",
       "    </tr>\n",
       "  </thead>\n",
       "  <tbody>\n",
       "    <tr>\n",
       "      <th>0</th>\n",
       "      <td>1</td>\n",
       "      <td>749</td>\n",
       "      <td>0.585171</td>\n",
       "      <td>19571.0</td>\n",
       "      <td>0.0</td>\n",
       "      <td>40000.0</td>\n",
       "    </tr>\n",
       "    <tr>\n",
       "      <th>1</th>\n",
       "      <td>2</td>\n",
       "      <td>587</td>\n",
       "      <td>0.107928</td>\n",
       "      <td>161644.0</td>\n",
       "      <td>2.0</td>\n",
       "      <td>1250.0</td>\n",
       "    </tr>\n",
       "    <tr>\n",
       "      <th>2</th>\n",
       "      <td>3</td>\n",
       "      <td>544</td>\n",
       "      <td>0.854807</td>\n",
       "      <td>513.0</td>\n",
       "      <td>4.0</td>\n",
       "      <td>1000.0</td>\n",
       "    </tr>\n",
       "    <tr>\n",
       "      <th>3</th>\n",
       "      <td>4</td>\n",
       "      <td>504</td>\n",
       "      <td>0.336938</td>\n",
       "      <td>224.0</td>\n",
       "      <td>2.0</td>\n",
       "      <td>1000.0</td>\n",
       "    </tr>\n",
       "    <tr>\n",
       "      <th>4</th>\n",
       "      <td>5</td>\n",
       "      <td>708</td>\n",
       "      <td>0.586151</td>\n",
       "      <td>18090.0</td>\n",
       "      <td>2.0</td>\n",
       "      <td>40000.0</td>\n",
       "    </tr>\n",
       "  </tbody>\n",
       "</table>\n",
       "</div>"
      ],
      "text/plain": [
       "   cust_id  credit_score  credit_utilisation  outstanding_debt  \\\n",
       "0        1           749            0.585171           19571.0   \n",
       "1        2           587            0.107928          161644.0   \n",
       "2        3           544            0.854807             513.0   \n",
       "3        4           504            0.336938             224.0   \n",
       "4        5           708            0.586151           18090.0   \n",
       "\n",
       "   credit_inquiries_last_6_months  credit_limit  \n",
       "0                             0.0       40000.0  \n",
       "1                             2.0        1250.0  \n",
       "2                             4.0        1000.0  \n",
       "3                             2.0        1000.0  \n",
       "4                             2.0       40000.0  "
      ]
     },
     "execution_count": 68,
     "metadata": {},
     "output_type": "execute_result"
    }
   ],
   "source": [
    "df_cs.head()"
   ]
  },
  {
   "cell_type": "code",
   "execution_count": 69,
   "id": "cd3eb2fa-2a81-45b1-8975-10e0598f5a46",
   "metadata": {},
   "outputs": [
    {
     "data": {
      "text/plain": [
       "(1004, 14)"
      ]
     },
     "execution_count": 69,
     "metadata": {},
     "output_type": "execute_result"
    }
   ],
   "source": [
    "# We will merge cutomer and credit profile dataframe \n",
    "df_merged = pd.merge(df_cust, df_cs, on='cust_id', how='inner')\n",
    "df_merged.shape "
   ]
  },
  {
   "cell_type": "code",
   "execution_count": 70,
   "id": "a82d84e9-0165-443e-9207-5d3509c02827",
   "metadata": {},
   "outputs": [
    {
     "data": {
      "text/html": [
       "<div>\n",
       "<style scoped>\n",
       "    .dataframe tbody tr th:only-of-type {\n",
       "        vertical-align: middle;\n",
       "    }\n",
       "\n",
       "    .dataframe tbody tr th {\n",
       "        vertical-align: top;\n",
       "    }\n",
       "\n",
       "    .dataframe thead th {\n",
       "        text-align: right;\n",
       "    }\n",
       "</style>\n",
       "<table border=\"1\" class=\"dataframe\">\n",
       "  <thead>\n",
       "    <tr style=\"text-align: right;\">\n",
       "      <th></th>\n",
       "      <th>credit_score</th>\n",
       "      <th>credit_limit</th>\n",
       "    </tr>\n",
       "  </thead>\n",
       "  <tbody>\n",
       "    <tr>\n",
       "      <th>credit_score</th>\n",
       "      <td>1.000000</td>\n",
       "      <td>0.844279</td>\n",
       "    </tr>\n",
       "    <tr>\n",
       "      <th>credit_limit</th>\n",
       "      <td>0.844279</td>\n",
       "      <td>1.000000</td>\n",
       "    </tr>\n",
       "  </tbody>\n",
       "</table>\n",
       "</div>"
      ],
      "text/plain": [
       "              credit_score  credit_limit\n",
       "credit_score      1.000000      0.844279\n",
       "credit_limit      0.844279      1.000000"
      ]
     },
     "execution_count": 70,
     "metadata": {},
     "output_type": "execute_result"
    }
   ],
   "source": [
    "# Let's check correlation using inbuild method corr\n",
    "df_merged[['credit_score','credit_limit']].corr()"
   ]
  },
  {
   "cell_type": "code",
   "execution_count": 71,
   "id": "33a766e2-b1a1-47f6-9b94-10c76e3e5ffd",
   "metadata": {},
   "outputs": [
    {
     "data": {
      "text/html": [
       "<div>\n",
       "<style scoped>\n",
       "    .dataframe tbody tr th:only-of-type {\n",
       "        vertical-align: middle;\n",
       "    }\n",
       "\n",
       "    .dataframe tbody tr th {\n",
       "        vertical-align: top;\n",
       "    }\n",
       "\n",
       "    .dataframe thead th {\n",
       "        text-align: right;\n",
       "    }\n",
       "</style>\n",
       "<table border=\"1\" class=\"dataframe\">\n",
       "  <thead>\n",
       "    <tr style=\"text-align: right;\">\n",
       "      <th></th>\n",
       "      <th>credit_score</th>\n",
       "      <th>credit_utilisation</th>\n",
       "      <th>outstanding_debt</th>\n",
       "      <th>credit_limit</th>\n",
       "      <th>annual_income</th>\n",
       "      <th>age</th>\n",
       "    </tr>\n",
       "  </thead>\n",
       "  <tbody>\n",
       "    <tr>\n",
       "      <th>credit_score</th>\n",
       "      <td>1.000000</td>\n",
       "      <td>-0.070445</td>\n",
       "      <td>0.306026</td>\n",
       "      <td>0.844279</td>\n",
       "      <td>0.575610</td>\n",
       "      <td>0.445136</td>\n",
       "    </tr>\n",
       "    <tr>\n",
       "      <th>credit_utilisation</th>\n",
       "      <td>-0.070445</td>\n",
       "      <td>1.000000</td>\n",
       "      <td>0.046540</td>\n",
       "      <td>-0.084046</td>\n",
       "      <td>-0.086368</td>\n",
       "      <td>-0.027713</td>\n",
       "    </tr>\n",
       "    <tr>\n",
       "      <th>outstanding_debt</th>\n",
       "      <td>0.306026</td>\n",
       "      <td>0.046540</td>\n",
       "      <td>1.000000</td>\n",
       "      <td>0.361906</td>\n",
       "      <td>0.276196</td>\n",
       "      <td>0.247933</td>\n",
       "    </tr>\n",
       "    <tr>\n",
       "      <th>credit_limit</th>\n",
       "      <td>0.844279</td>\n",
       "      <td>-0.084046</td>\n",
       "      <td>0.361906</td>\n",
       "      <td>1.000000</td>\n",
       "      <td>0.682402</td>\n",
       "      <td>0.518326</td>\n",
       "    </tr>\n",
       "    <tr>\n",
       "      <th>annual_income</th>\n",
       "      <td>0.575610</td>\n",
       "      <td>-0.086368</td>\n",
       "      <td>0.276196</td>\n",
       "      <td>0.682402</td>\n",
       "      <td>1.000000</td>\n",
       "      <td>0.619373</td>\n",
       "    </tr>\n",
       "    <tr>\n",
       "      <th>age</th>\n",
       "      <td>0.445136</td>\n",
       "      <td>-0.027713</td>\n",
       "      <td>0.247933</td>\n",
       "      <td>0.518326</td>\n",
       "      <td>0.619373</td>\n",
       "      <td>1.000000</td>\n",
       "    </tr>\n",
       "  </tbody>\n",
       "</table>\n",
       "</div>"
      ],
      "text/plain": [
       "                    credit_score  credit_utilisation  outstanding_debt  \\\n",
       "credit_score            1.000000           -0.070445          0.306026   \n",
       "credit_utilisation     -0.070445            1.000000          0.046540   \n",
       "outstanding_debt        0.306026            0.046540          1.000000   \n",
       "credit_limit            0.844279           -0.084046          0.361906   \n",
       "annual_income           0.575610           -0.086368          0.276196   \n",
       "age                     0.445136           -0.027713          0.247933   \n",
       "\n",
       "                    credit_limit  annual_income       age  \n",
       "credit_score            0.844279       0.575610  0.445136  \n",
       "credit_utilisation     -0.084046      -0.086368 -0.027713  \n",
       "outstanding_debt        0.361906       0.276196  0.247933  \n",
       "credit_limit            1.000000       0.682402  0.518326  \n",
       "annual_income           0.682402       1.000000  0.619373  \n",
       "age                     0.518326       0.619373  1.000000  "
      ]
     },
     "execution_count": 71,
     "metadata": {},
     "output_type": "execute_result"
    }
   ],
   "source": [
    "# Similarly we do for all numric columns\n",
    "numerical_cols = ['credit_score', 'credit_utilisation', 'outstanding_debt', 'credit_limit', 'annual_income','age']\n",
    "correlation_matrix=df_merged[numerical_cols].corr()\n",
    "correlation_matrix"
   ]
  },
  {
   "cell_type": "code",
   "execution_count": 72,
   "id": "03d203f2-004f-498b-9e11-0a4069ea5abb",
   "metadata": {
    "scrolled": true
   },
   "outputs": [
    {
     "data": {
      "image/png": "[encoded data removed]",
      "text/plain": [
       "<Figure size 640x480 with 2 Axes>"
      ]
     },
     "metadata": {},
     "output_type": "display_data"
    }
   ],
   "source": [
    "# We can visulize this using hitmap\n",
    "sns.heatmap(correlation_matrix,annot=True, fmt=\".2f\", cmap='coolwarm', linewidths=0.8)\n",
    "plt.show()"
   ]
  },
  {
   "cell_type": "markdown",
   "id": "14fc7cf0-7243-4723-a417-5a9acaf53b2a",
   "metadata": {},
   "source": [
    "Transaction Table"
   ]
  },
  {
   "cell_type": "code",
   "execution_count": 74,
   "id": "df74aeae-cc19-47fa-9f95-f0e3f00a31bf",
   "metadata": {
    "jupyter": {
     "source_hidden": true
    }
   },
   "outputs": [],
   "source": [
    "# Let's handle null values in df_trans"
   ]
  },
  {
   "cell_type": "code",
   "execution_count": 75,
   "id": "e020c80b-93e0-452d-82f7-5110fedf6ac0",
   "metadata": {
    "scrolled": true
   },
   "outputs": [
    {
     "data": {
      "text/html": [
       "<div>\n",
       "<style scoped>\n",
       "    .dataframe tbody tr th:only-of-type {\n",
       "        vertical-align: middle;\n",
       "    }\n",
       "\n",
       "    .dataframe tbody tr th {\n",
       "        vertical-align: top;\n",
       "    }\n",
       "\n",
       "    .dataframe thead th {\n",
       "        text-align: right;\n",
       "    }\n",
       "</style>\n",
       "<table border=\"1\" class=\"dataframe\">\n",
       "  <thead>\n",
       "    <tr style=\"text-align: right;\">\n",
       "      <th></th>\n",
       "      <th>tran_id</th>\n",
       "      <th>cust_id</th>\n",
       "      <th>tran_date</th>\n",
       "      <th>tran_amount</th>\n",
       "      <th>platform</th>\n",
       "      <th>product_category</th>\n",
       "      <th>payment_type</th>\n",
       "    </tr>\n",
       "  </thead>\n",
       "  <tbody>\n",
       "    <tr>\n",
       "      <th>0</th>\n",
       "      <td>1</td>\n",
       "      <td>705</td>\n",
       "      <td>2023-01-01</td>\n",
       "      <td>63</td>\n",
       "      <td>Flipkart</td>\n",
       "      <td>Electronics</td>\n",
       "      <td>Phonepe</td>\n",
       "    </tr>\n",
       "    <tr>\n",
       "      <th>1</th>\n",
       "      <td>2</td>\n",
       "      <td>385</td>\n",
       "      <td>2023-01-01</td>\n",
       "      <td>99</td>\n",
       "      <td>Alibaba</td>\n",
       "      <td>Fashion &amp; Apparel</td>\n",
       "      <td>Credit Card</td>\n",
       "    </tr>\n",
       "    <tr>\n",
       "      <th>2</th>\n",
       "      <td>3</td>\n",
       "      <td>924</td>\n",
       "      <td>2023-01-01</td>\n",
       "      <td>471</td>\n",
       "      <td>Shopify</td>\n",
       "      <td>Sports</td>\n",
       "      <td>Phonepe</td>\n",
       "    </tr>\n",
       "    <tr>\n",
       "      <th>3</th>\n",
       "      <td>4</td>\n",
       "      <td>797</td>\n",
       "      <td>2023-01-01</td>\n",
       "      <td>33</td>\n",
       "      <td>Shopify</td>\n",
       "      <td>Fashion &amp; Apparel</td>\n",
       "      <td>Gpay</td>\n",
       "    </tr>\n",
       "    <tr>\n",
       "      <th>4</th>\n",
       "      <td>5</td>\n",
       "      <td>482</td>\n",
       "      <td>2023-01-01</td>\n",
       "      <td>68</td>\n",
       "      <td>Amazon</td>\n",
       "      <td>Fashion &amp; Apparel</td>\n",
       "      <td>Net Banking</td>\n",
       "    </tr>\n",
       "  </tbody>\n",
       "</table>\n",
       "</div>"
      ],
      "text/plain": [
       "   tran_id  cust_id   tran_date  tran_amount  platform   product_category  \\\n",
       "0        1      705  2023-01-01           63  Flipkart        Electronics   \n",
       "1        2      385  2023-01-01           99   Alibaba  Fashion & Apparel   \n",
       "2        3      924  2023-01-01          471   Shopify             Sports   \n",
       "3        4      797  2023-01-01           33   Shopify  Fashion & Apparel   \n",
       "4        5      482  2023-01-01           68    Amazon  Fashion & Apparel   \n",
       "\n",
       "  payment_type  \n",
       "0      Phonepe  \n",
       "1  Credit Card  \n",
       "2      Phonepe  \n",
       "3         Gpay  \n",
       "4  Net Banking  "
      ]
     },
     "execution_count": 75,
     "metadata": {},
     "output_type": "execute_result"
    }
   ],
   "source": [
    "df_trans.head()"
   ]
  },
  {
   "cell_type": "code",
   "execution_count": 76,
   "id": "0632557b-4bf4-4f21-9a12-c1c8241a6966",
   "metadata": {},
   "outputs": [
    {
     "data": {
      "text/html": [
       "<div>\n",
       "<style scoped>\n",
       "    .dataframe tbody tr th:only-of-type {\n",
       "        vertical-align: middle;\n",
       "    }\n",
       "\n",
       "    .dataframe tbody tr th {\n",
       "        vertical-align: top;\n",
       "    }\n",
       "\n",
       "    .dataframe thead th {\n",
       "        text-align: right;\n",
       "    }\n",
       "</style>\n",
       "<table border=\"1\" class=\"dataframe\">\n",
       "  <thead>\n",
       "    <tr style=\"text-align: right;\">\n",
       "      <th></th>\n",
       "      <th>tran_id</th>\n",
       "      <th>cust_id</th>\n",
       "      <th>tran_amount</th>\n",
       "    </tr>\n",
       "  </thead>\n",
       "  <tbody>\n",
       "    <tr>\n",
       "      <th>count</th>\n",
       "      <td>500000.000000</td>\n",
       "      <td>500000.000000</td>\n",
       "      <td>500000.00000</td>\n",
       "    </tr>\n",
       "    <tr>\n",
       "      <th>mean</th>\n",
       "      <td>250000.500000</td>\n",
       "      <td>501.400428</td>\n",
       "      <td>3225.20733</td>\n",
       "    </tr>\n",
       "    <tr>\n",
       "      <th>std</th>\n",
       "      <td>144337.711634</td>\n",
       "      <td>288.641924</td>\n",
       "      <td>13098.74276</td>\n",
       "    </tr>\n",
       "    <tr>\n",
       "      <th>min</th>\n",
       "      <td>1.000000</td>\n",
       "      <td>1.000000</td>\n",
       "      <td>0.00000</td>\n",
       "    </tr>\n",
       "    <tr>\n",
       "      <th>25%</th>\n",
       "      <td>125000.750000</td>\n",
       "      <td>252.000000</td>\n",
       "      <td>64.00000</td>\n",
       "    </tr>\n",
       "    <tr>\n",
       "      <th>50%</th>\n",
       "      <td>250000.500000</td>\n",
       "      <td>502.000000</td>\n",
       "      <td>141.00000</td>\n",
       "    </tr>\n",
       "    <tr>\n",
       "      <th>75%</th>\n",
       "      <td>375000.250000</td>\n",
       "      <td>752.000000</td>\n",
       "      <td>397.00000</td>\n",
       "    </tr>\n",
       "    <tr>\n",
       "      <th>max</th>\n",
       "      <td>500000.000000</td>\n",
       "      <td>1000.000000</td>\n",
       "      <td>69999.00000</td>\n",
       "    </tr>\n",
       "  </tbody>\n",
       "</table>\n",
       "</div>"
      ],
      "text/plain": [
       "             tran_id        cust_id   tran_amount\n",
       "count  500000.000000  500000.000000  500000.00000\n",
       "mean   250000.500000     501.400428    3225.20733\n",
       "std    144337.711634     288.641924   13098.74276\n",
       "min         1.000000       1.000000       0.00000\n",
       "25%    125000.750000     252.000000      64.00000\n",
       "50%    250000.500000     502.000000     141.00000\n",
       "75%    375000.250000     752.000000     397.00000\n",
       "max    500000.000000    1000.000000   69999.00000"
      ]
     },
     "execution_count": 76,
     "metadata": {},
     "output_type": "execute_result"
    }
   ],
   "source": [
    "df_trans.describe()"
   ]
  },
  {
   "cell_type": "code",
   "execution_count": 77,
   "id": "3145e5f3-fd39-41d8-8978-717d93727fc2",
   "metadata": {},
   "outputs": [
    {
     "data": {
      "text/plain": [
       "tran_id                0\n",
       "cust_id                0\n",
       "tran_date              0\n",
       "tran_amount            0\n",
       "platform            4941\n",
       "product_category       0\n",
       "payment_type           0\n",
       "dtype: int64"
      ]
     },
     "execution_count": 77,
     "metadata": {},
     "output_type": "execute_result"
    }
   ],
   "source": [
    "df_trans.isnull().sum()"
   ]
  },
  {
   "cell_type": "code",
   "execution_count": 78,
   "id": "90ef6352-c634-466c-a5d1-c8c0f25cbb7b",
   "metadata": {},
   "outputs": [
    {
     "data": {
      "text/plain": [
       "array(['Flipkart', 'Alibaba', 'Shopify', 'Amazon', 'Ebay', 'Meesho',\n",
       "       'Cred', nan], dtype=object)"
      ]
     },
     "execution_count": 78,
     "metadata": {},
     "output_type": "execute_result"
    }
   ],
   "source": [
    "df_trans.platform.unique()"
   ]
  },
  {
   "cell_type": "code",
   "execution_count": 79,
   "id": "5a0d8df0-760a-47a8-a605-1cef472d31aa",
   "metadata": {},
   "outputs": [
    {
     "data": {
      "text/plain": [
       "platform\n",
       "Amazon      151443\n",
       "Flipkart    122660\n",
       "Alibaba      73584\n",
       "Meesho       73271\n",
       "Shopify      39416\n",
       "Cred         24741\n",
       "Ebay          9944\n",
       "Name: count, dtype: int64"
      ]
     },
     "execution_count": 79,
     "metadata": {},
     "output_type": "execute_result"
    }
   ],
   "source": [
    "df_trans.platform.value_counts()"
   ]
  },
  {
   "cell_type": "code",
   "execution_count": 80,
   "id": "c32cd2e3-11cd-4d91-907a-e8616049e21e",
   "metadata": {},
   "outputs": [
    {
     "data": {
      "text/plain": [
       "<Axes: xlabel='count', ylabel='product_category'>"
      ]
     },
     "execution_count": 80,
     "metadata": {},
     "output_type": "execute_result"
    },
    {
     "data": {
      "image/png": "[encoded data removed]",
      "text/plain": [
       "<Figure size 640x480 with 1 Axes>"
      ]
     },
     "metadata": {},
     "output_type": "display_data"
    }
   ],
   "source": [
    "sns.countplot(y=\"product_category\", hue=\"platform\", data=df_trans)"
   ]
  },
  {
   "cell_type": "code",
   "execution_count": 81,
   "id": "bf11ea7f-6bcd-4fc8-97dc-91932ad3f6d2",
   "metadata": {},
   "outputs": [],
   "source": [
    "# As we can see the most used platform is amazon so we will repalce null values with mode, which is amzon"
   ]
  },
  {
   "cell_type": "code",
   "execution_count": 82,
   "id": "944e4a03-46fb-413d-a4a5-1c9ead1c7fa9",
   "metadata": {},
   "outputs": [
    {
     "name": "stderr",
     "output_type": "stream",
     "text": [
      "/var/folders/gn/msf4ty3s5j30lw19_2_v3dq40000gn/T/ipykernel_11265/2724666882.py:1: FutureWarning: A value is trying to be set on a copy of a DataFrame or Series through chained assignment using an inplace method.\n",
      "The behavior will change in pandas 3.0. This inplace method will never work because the intermediate object on which we are setting values always behaves as a copy.\n",
      "\n",
      "For example, when doing 'df[col].method(value, inplace=True)', try using 'df.method({col: value}, inplace=True)' or df[col] = df[col].method(value) instead, to perform the operation inplace on the original object.\n",
      "\n",
      "\n",
      "  df_trans.platform.fillna(df_trans.platform.mode()[0],inplace=True)\n"
     ]
    }
   ],
   "source": [
    "df_trans.platform.fillna(df_trans.platform.mode()[0],inplace=True)"
   ]
  },
  {
   "cell_type": "code",
   "execution_count": 83,
   "id": "2e25b370-3426-48ae-9510-e5d75024e599",
   "metadata": {},
   "outputs": [
    {
     "data": {
      "text/plain": [
       "tran_id             0\n",
       "cust_id             0\n",
       "tran_date           0\n",
       "tran_amount         0\n",
       "platform            0\n",
       "product_category    0\n",
       "payment_type        0\n",
       "dtype: int64"
      ]
     },
     "execution_count": 83,
     "metadata": {},
     "output_type": "execute_result"
    }
   ],
   "source": [
    "df_trans.isnull().sum()"
   ]
  },
  {
   "cell_type": "code",
   "execution_count": 84,
   "id": "6e6ab48a-84f4-4f2e-ae75-9acd3af5819f",
   "metadata": {},
   "outputs": [],
   "source": [
    "# As our project requirement transaction amount can not be zero we have handle that as well"
   ]
  },
  {
   "cell_type": "code",
   "execution_count": 85,
   "id": "95770e03-3ba3-4267-998a-947fbdb61e86",
   "metadata": {},
   "outputs": [
    {
     "data": {
      "text/html": [
       "<div>\n",
       "<style scoped>\n",
       "    .dataframe tbody tr th:only-of-type {\n",
       "        vertical-align: middle;\n",
       "    }\n",
       "\n",
       "    .dataframe tbody tr th {\n",
       "        vertical-align: top;\n",
       "    }\n",
       "\n",
       "    .dataframe thead th {\n",
       "        text-align: right;\n",
       "    }\n",
       "</style>\n",
       "<table border=\"1\" class=\"dataframe\">\n",
       "  <thead>\n",
       "    <tr style=\"text-align: right;\">\n",
       "      <th></th>\n",
       "      <th>tran_id</th>\n",
       "      <th>cust_id</th>\n",
       "      <th>tran_date</th>\n",
       "      <th>tran_amount</th>\n",
       "      <th>platform</th>\n",
       "      <th>product_category</th>\n",
       "      <th>payment_type</th>\n",
       "    </tr>\n",
       "  </thead>\n",
       "  <tbody>\n",
       "    <tr>\n",
       "      <th>120</th>\n",
       "      <td>121</td>\n",
       "      <td>440</td>\n",
       "      <td>2023-01-01</td>\n",
       "      <td>0</td>\n",
       "      <td>Amazon</td>\n",
       "      <td>Electronics</td>\n",
       "      <td>Credit Card</td>\n",
       "    </tr>\n",
       "    <tr>\n",
       "      <th>141</th>\n",
       "      <td>142</td>\n",
       "      <td>839</td>\n",
       "      <td>2023-01-01</td>\n",
       "      <td>0</td>\n",
       "      <td>Amazon</td>\n",
       "      <td>Electronics</td>\n",
       "      <td>Credit Card</td>\n",
       "    </tr>\n",
       "    <tr>\n",
       "      <th>517</th>\n",
       "      <td>518</td>\n",
       "      <td>147</td>\n",
       "      <td>2023-01-01</td>\n",
       "      <td>0</td>\n",
       "      <td>Amazon</td>\n",
       "      <td>Electronics</td>\n",
       "      <td>Credit Card</td>\n",
       "    </tr>\n",
       "    <tr>\n",
       "      <th>533</th>\n",
       "      <td>534</td>\n",
       "      <td>891</td>\n",
       "      <td>2023-01-01</td>\n",
       "      <td>0</td>\n",
       "      <td>Amazon</td>\n",
       "      <td>Electronics</td>\n",
       "      <td>Credit Card</td>\n",
       "    </tr>\n",
       "    <tr>\n",
       "      <th>586</th>\n",
       "      <td>587</td>\n",
       "      <td>108</td>\n",
       "      <td>2023-01-01</td>\n",
       "      <td>0</td>\n",
       "      <td>Amazon</td>\n",
       "      <td>Electronics</td>\n",
       "      <td>Credit Card</td>\n",
       "    </tr>\n",
       "  </tbody>\n",
       "</table>\n",
       "</div>"
      ],
      "text/plain": [
       "     tran_id  cust_id   tran_date  tran_amount platform product_category  \\\n",
       "120      121      440  2023-01-01            0   Amazon      Electronics   \n",
       "141      142      839  2023-01-01            0   Amazon      Electronics   \n",
       "517      518      147  2023-01-01            0   Amazon      Electronics   \n",
       "533      534      891  2023-01-01            0   Amazon      Electronics   \n",
       "586      587      108  2023-01-01            0   Amazon      Electronics   \n",
       "\n",
       "    payment_type  \n",
       "120  Credit Card  \n",
       "141  Credit Card  \n",
       "517  Credit Card  \n",
       "533  Credit Card  \n",
       "586  Credit Card  "
      ]
     },
     "execution_count": 85,
     "metadata": {},
     "output_type": "execute_result"
    }
   ],
   "source": [
    "df_zero_trans=df_trans[df_trans.tran_amount==0]\n",
    "df_zero_trans.head()"
   ]
  },
  {
   "cell_type": "code",
   "execution_count": 86,
   "id": "8674be87-2016-43e5-b80a-2a208ffb2de1",
   "metadata": {},
   "outputs": [
    {
     "data": {
      "text/html": [
       "<div>\n",
       "<style scoped>\n",
       "    .dataframe tbody tr th:only-of-type {\n",
       "        vertical-align: middle;\n",
       "    }\n",
       "\n",
       "    .dataframe tbody tr th {\n",
       "        vertical-align: top;\n",
       "    }\n",
       "\n",
       "    .dataframe thead th {\n",
       "        text-align: right;\n",
       "    }\n",
       "</style>\n",
       "<table border=\"1\" class=\"dataframe\">\n",
       "  <thead>\n",
       "    <tr style=\"text-align: right;\">\n",
       "      <th></th>\n",
       "      <th>tran_id</th>\n",
       "      <th>cust_id</th>\n",
       "      <th>tran_date</th>\n",
       "      <th>tran_amount</th>\n",
       "      <th>platform</th>\n",
       "      <th>product_category</th>\n",
       "      <th>payment_type</th>\n",
       "    </tr>\n",
       "  </thead>\n",
       "  <tbody>\n",
       "    <tr>\n",
       "      <th>109</th>\n",
       "      <td>110</td>\n",
       "      <td>887</td>\n",
       "      <td>2023-01-01</td>\n",
       "      <td>635</td>\n",
       "      <td>Amazon</td>\n",
       "      <td>Electronics</td>\n",
       "      <td>Credit Card</td>\n",
       "    </tr>\n",
       "    <tr>\n",
       "      <th>120</th>\n",
       "      <td>121</td>\n",
       "      <td>440</td>\n",
       "      <td>2023-01-01</td>\n",
       "      <td>0</td>\n",
       "      <td>Amazon</td>\n",
       "      <td>Electronics</td>\n",
       "      <td>Credit Card</td>\n",
       "    </tr>\n",
       "    <tr>\n",
       "      <th>141</th>\n",
       "      <td>142</td>\n",
       "      <td>839</td>\n",
       "      <td>2023-01-01</td>\n",
       "      <td>0</td>\n",
       "      <td>Amazon</td>\n",
       "      <td>Electronics</td>\n",
       "      <td>Credit Card</td>\n",
       "    </tr>\n",
       "    <tr>\n",
       "      <th>173</th>\n",
       "      <td>174</td>\n",
       "      <td>676</td>\n",
       "      <td>2023-01-01</td>\n",
       "      <td>60439</td>\n",
       "      <td>Amazon</td>\n",
       "      <td>Electronics</td>\n",
       "      <td>Credit Card</td>\n",
       "    </tr>\n",
       "    <tr>\n",
       "      <th>190</th>\n",
       "      <td>191</td>\n",
       "      <td>763</td>\n",
       "      <td>2023-01-01</td>\n",
       "      <td>697</td>\n",
       "      <td>Amazon</td>\n",
       "      <td>Electronics</td>\n",
       "      <td>Credit Card</td>\n",
       "    </tr>\n",
       "  </tbody>\n",
       "</table>\n",
       "</div>"
      ],
      "text/plain": [
       "     tran_id  cust_id   tran_date  tran_amount platform product_category  \\\n",
       "109      110      887  2023-01-01          635   Amazon      Electronics   \n",
       "120      121      440  2023-01-01            0   Amazon      Electronics   \n",
       "141      142      839  2023-01-01            0   Amazon      Electronics   \n",
       "173      174      676  2023-01-01        60439   Amazon      Electronics   \n",
       "190      191      763  2023-01-01          697   Amazon      Electronics   \n",
       "\n",
       "    payment_type  \n",
       "109  Credit Card  \n",
       "120  Credit Card  \n",
       "141  Credit Card  \n",
       "173  Credit Card  \n",
       "190  Credit Card  "
      ]
     },
     "execution_count": 86,
     "metadata": {},
     "output_type": "execute_result"
    }
   ],
   "source": [
    "# let's check what else values we have as platform as amzon and category electronics, because for this only we have null values\n",
    "\n",
    "df_trans_1 = df_trans[(df_trans. platform == 'Amazon') & (df_trans.product_category== \"Electronics\") & (df_trans.payment_type== \"Credit Card\")]\n",
    "df_trans_1.head()\n",
    "\n",
    "                                                                                                                             "
   ]
  },
  {
   "cell_type": "code",
   "execution_count": 87,
   "id": "b6bc4f83-81bb-4005-9f03-1f451046c34c",
   "metadata": {},
   "outputs": [
    {
     "data": {
      "text/plain": [
       "554.0"
      ]
     },
     "execution_count": 87,
     "metadata": {},
     "output_type": "execute_result"
    }
   ],
   "source": [
    "# we will meadin of above data to replace with 0\n",
    "median_replace=df_trans_1[df_trans_1.tran_amount>0].tran_amount.median()\n",
    "median_replace"
   ]
  },
  {
   "cell_type": "code",
   "execution_count": 88,
   "id": "04fe6786-fa7b-4c2f-99ec-18a1e87215a3",
   "metadata": {},
   "outputs": [
    {
     "name": "stderr",
     "output_type": "stream",
     "text": [
      "/var/folders/gn/msf4ty3s5j30lw19_2_v3dq40000gn/T/ipykernel_11265/3867098013.py:1: FutureWarning: A value is trying to be set on a copy of a DataFrame or Series through chained assignment using an inplace method.\n",
      "The behavior will change in pandas 3.0. This inplace method will never work because the intermediate object on which we are setting values always behaves as a copy.\n",
      "\n",
      "For example, when doing 'df[col].method(value, inplace=True)', try using 'df.method({col: value}, inplace=True)' or df[col] = df[col].method(value) instead, to perform the operation inplace on the original object.\n",
      "\n",
      "\n",
      "  df_trans['tran_amount'].replace(0,median_replace,inplace=True)\n"
     ]
    }
   ],
   "source": [
    "df_trans['tran_amount'].replace(0,median_replace,inplace=True)"
   ]
  },
  {
   "cell_type": "code",
   "execution_count": 89,
   "id": "69f29a53-f9db-4d33-883f-a7137d1e8ac0",
   "metadata": {},
   "outputs": [
    {
     "data": {
      "text/plain": [
       "<Axes: xlabel='tran_amount', ylabel='Count'>"
      ]
     },
     "execution_count": 89,
     "metadata": {},
     "output_type": "execute_result"
    },
    {
     "data": {
      "image/png": "[encoded data removed]",
      "text/plain": [
       "<Figure size 640x480 with 1 Axes>"
      ]
     },
     "metadata": {},
     "output_type": "display_data"
    }
   ],
   "source": [
    "sns.histplot(df_trans[df_trans.tran_amount<1000].tran_amount,bins=30)"
   ]
  },
  {
   "cell_type": "code",
   "execution_count": 90,
   "id": "be8c0625-c7a0-4137-8ff4-39124d628d45",
   "metadata": {},
   "outputs": [],
   "source": [
    "# As we can see our data is right sckwed"
   ]
  },
  {
   "cell_type": "code",
   "execution_count": 91,
   "id": "0ad7165b-34d4-4bfa-8961-0a2a844006de",
   "metadata": {},
   "outputs": [],
   "source": [
    "# we use IQR to fix this"
   ]
  },
  {
   "cell_type": "code",
   "execution_count": 92,
   "id": "a77d2709-270d-4123-a8b7-c516fbf2dd34",
   "metadata": {},
   "outputs": [
    {
     "data": {
      "text/plain": [
       "(-628.0, 1107.0)"
      ]
     },
     "execution_count": 92,
     "metadata": {},
     "output_type": "execute_result"
    }
   ],
   "source": [
    "Q1, Q3 = df_trans['tran_amount'].quantile ([0.25, 0.75]) \n",
    "IQR = Q3 - Q1 \n",
    "lower = Q1 - 2*IQR \n",
    "upper = Q3 + 2*IQR \n",
    "lower, upper"
   ]
  },
  {
   "cell_type": "code",
   "execution_count": 93,
   "id": "190f8545-781d-436c-a7c4-34ce2c511a20",
   "metadata": {},
   "outputs": [],
   "source": [
    "# We will consider upper limit only because transaction can't be negative\n",
    "df_trans_outlier=df_trans[df_trans.tran_amount>upper]"
   ]
  },
  {
   "cell_type": "code",
   "execution_count": 94,
   "id": "41e15c81-fbe9-47c3-9e0f-4db2b1e212e7",
   "metadata": {},
   "outputs": [
    {
     "data": {
      "text/html": [
       "<div>\n",
       "<style scoped>\n",
       "    .dataframe tbody tr th:only-of-type {\n",
       "        vertical-align: middle;\n",
       "    }\n",
       "\n",
       "    .dataframe tbody tr th {\n",
       "        vertical-align: top;\n",
       "    }\n",
       "\n",
       "    .dataframe thead th {\n",
       "        text-align: right;\n",
       "    }\n",
       "</style>\n",
       "<table border=\"1\" class=\"dataframe\">\n",
       "  <thead>\n",
       "    <tr style=\"text-align: right;\">\n",
       "      <th></th>\n",
       "      <th>tran_id</th>\n",
       "      <th>cust_id</th>\n",
       "      <th>tran_date</th>\n",
       "      <th>tran_amount</th>\n",
       "      <th>platform</th>\n",
       "      <th>product_category</th>\n",
       "      <th>payment_type</th>\n",
       "    </tr>\n",
       "  </thead>\n",
       "  <tbody>\n",
       "    <tr>\n",
       "      <th>26</th>\n",
       "      <td>27</td>\n",
       "      <td>380</td>\n",
       "      <td>2023-01-01</td>\n",
       "      <td>61963</td>\n",
       "      <td>Shopify</td>\n",
       "      <td>Beauty &amp; Personal Care</td>\n",
       "      <td>Credit Card</td>\n",
       "    </tr>\n",
       "    <tr>\n",
       "      <th>49</th>\n",
       "      <td>50</td>\n",
       "      <td>287</td>\n",
       "      <td>2023-01-01</td>\n",
       "      <td>57869</td>\n",
       "      <td>Amazon</td>\n",
       "      <td>Toys &amp; Games</td>\n",
       "      <td>Gpay</td>\n",
       "    </tr>\n",
       "    <tr>\n",
       "      <th>94</th>\n",
       "      <td>95</td>\n",
       "      <td>770</td>\n",
       "      <td>2023-01-01</td>\n",
       "      <td>52881</td>\n",
       "      <td>Ebay</td>\n",
       "      <td>Kitchen Appliances</td>\n",
       "      <td>Credit Card</td>\n",
       "    </tr>\n",
       "    <tr>\n",
       "      <th>104</th>\n",
       "      <td>105</td>\n",
       "      <td>549</td>\n",
       "      <td>2023-01-01</td>\n",
       "      <td>58574</td>\n",
       "      <td>Flipkart</td>\n",
       "      <td>Fashion &amp; Apparel</td>\n",
       "      <td>Gpay</td>\n",
       "    </tr>\n",
       "    <tr>\n",
       "      <th>113</th>\n",
       "      <td>114</td>\n",
       "      <td>790</td>\n",
       "      <td>2023-01-01</td>\n",
       "      <td>51669</td>\n",
       "      <td>Shopify</td>\n",
       "      <td>Kitchen Appliances</td>\n",
       "      <td>Credit Card</td>\n",
       "    </tr>\n",
       "  </tbody>\n",
       "</table>\n",
       "</div>"
      ],
      "text/plain": [
       "     tran_id  cust_id   tran_date  tran_amount  platform  \\\n",
       "26        27      380  2023-01-01        61963   Shopify   \n",
       "49        50      287  2023-01-01        57869    Amazon   \n",
       "94        95      770  2023-01-01        52881      Ebay   \n",
       "104      105      549  2023-01-01        58574  Flipkart   \n",
       "113      114      790  2023-01-01        51669   Shopify   \n",
       "\n",
       "           product_category payment_type  \n",
       "26   Beauty & Personal Care  Credit Card  \n",
       "49             Toys & Games         Gpay  \n",
       "94       Kitchen Appliances  Credit Card  \n",
       "104       Fashion & Apparel         Gpay  \n",
       "113      Kitchen Appliances  Credit Card  "
      ]
     },
     "execution_count": 94,
     "metadata": {},
     "output_type": "execute_result"
    }
   ],
   "source": [
    "df_trans_outlier.head()"
   ]
  },
  {
   "cell_type": "code",
   "execution_count": 95,
   "id": "f7efcb60-a44e-446d-8651-3c15eee72d44",
   "metadata": {},
   "outputs": [
    {
     "data": {
      "text/html": [
       "<div>\n",
       "<style scoped>\n",
       "    .dataframe tbody tr th:only-of-type {\n",
       "        vertical-align: middle;\n",
       "    }\n",
       "\n",
       "    .dataframe tbody tr th {\n",
       "        vertical-align: top;\n",
       "    }\n",
       "\n",
       "    .dataframe thead th {\n",
       "        text-align: right;\n",
       "    }\n",
       "</style>\n",
       "<table border=\"1\" class=\"dataframe\">\n",
       "  <thead>\n",
       "    <tr style=\"text-align: right;\">\n",
       "      <th></th>\n",
       "      <th>tran_id</th>\n",
       "      <th>cust_id</th>\n",
       "      <th>tran_date</th>\n",
       "      <th>tran_amount</th>\n",
       "      <th>platform</th>\n",
       "      <th>product_category</th>\n",
       "      <th>payment_type</th>\n",
       "    </tr>\n",
       "  </thead>\n",
       "  <tbody>\n",
       "    <tr>\n",
       "      <th>0</th>\n",
       "      <td>1</td>\n",
       "      <td>705</td>\n",
       "      <td>2023-01-01</td>\n",
       "      <td>63</td>\n",
       "      <td>Flipkart</td>\n",
       "      <td>Electronics</td>\n",
       "      <td>Phonepe</td>\n",
       "    </tr>\n",
       "    <tr>\n",
       "      <th>1</th>\n",
       "      <td>2</td>\n",
       "      <td>385</td>\n",
       "      <td>2023-01-01</td>\n",
       "      <td>99</td>\n",
       "      <td>Alibaba</td>\n",
       "      <td>Fashion &amp; Apparel</td>\n",
       "      <td>Credit Card</td>\n",
       "    </tr>\n",
       "    <tr>\n",
       "      <th>2</th>\n",
       "      <td>3</td>\n",
       "      <td>924</td>\n",
       "      <td>2023-01-01</td>\n",
       "      <td>471</td>\n",
       "      <td>Shopify</td>\n",
       "      <td>Sports</td>\n",
       "      <td>Phonepe</td>\n",
       "    </tr>\n",
       "    <tr>\n",
       "      <th>3</th>\n",
       "      <td>4</td>\n",
       "      <td>797</td>\n",
       "      <td>2023-01-01</td>\n",
       "      <td>33</td>\n",
       "      <td>Shopify</td>\n",
       "      <td>Fashion &amp; Apparel</td>\n",
       "      <td>Gpay</td>\n",
       "    </tr>\n",
       "    <tr>\n",
       "      <th>4</th>\n",
       "      <td>5</td>\n",
       "      <td>482</td>\n",
       "      <td>2023-01-01</td>\n",
       "      <td>68</td>\n",
       "      <td>Amazon</td>\n",
       "      <td>Fashion &amp; Apparel</td>\n",
       "      <td>Net Banking</td>\n",
       "    </tr>\n",
       "  </tbody>\n",
       "</table>\n",
       "</div>"
      ],
      "text/plain": [
       "   tran_id  cust_id   tran_date  tran_amount  platform   product_category  \\\n",
       "0        1      705  2023-01-01           63  Flipkart        Electronics   \n",
       "1        2      385  2023-01-01           99   Alibaba  Fashion & Apparel   \n",
       "2        3      924  2023-01-01          471   Shopify             Sports   \n",
       "3        4      797  2023-01-01           33   Shopify  Fashion & Apparel   \n",
       "4        5      482  2023-01-01           68    Amazon  Fashion & Apparel   \n",
       "\n",
       "  payment_type  \n",
       "0      Phonepe  \n",
       "1  Credit Card  \n",
       "2      Phonepe  \n",
       "3         Gpay  \n",
       "4  Net Banking  "
      ]
     },
     "execution_count": 95,
     "metadata": {},
     "output_type": "execute_result"
    }
   ],
   "source": [
    "df_trans_noraml=df_trans[df_trans.tran_amount<upper]\n",
    "df_trans_noraml.head()"
   ]
  },
  {
   "cell_type": "code",
   "execution_count": 96,
   "id": "df8cceae-8f0f-4261-98b7-679ee62bca3e",
   "metadata": {},
   "outputs": [],
   "source": [
    "df_trans_noraml_mean=df_trans_noraml.groupby(\"product_category\")[\"tran_amount\"].mean()"
   ]
  },
  {
   "cell_type": "code",
   "execution_count": 97,
   "id": "36a1160f-52b5-4356-86fc-938d454523c4",
   "metadata": {},
   "outputs": [
    {
     "data": {
      "text/html": [
       "<div>\n",
       "<style scoped>\n",
       "    .dataframe tbody tr th:only-of-type {\n",
       "        vertical-align: middle;\n",
       "    }\n",
       "\n",
       "    .dataframe tbody tr th {\n",
       "        vertical-align: top;\n",
       "    }\n",
       "\n",
       "    .dataframe thead th {\n",
       "        text-align: right;\n",
       "    }\n",
       "</style>\n",
       "<table border=\"1\" class=\"dataframe\">\n",
       "  <thead>\n",
       "    <tr style=\"text-align: right;\">\n",
       "      <th></th>\n",
       "      <th>tran_id</th>\n",
       "      <th>cust_id</th>\n",
       "      <th>tran_date</th>\n",
       "      <th>tran_amount</th>\n",
       "      <th>platform</th>\n",
       "      <th>product_category</th>\n",
       "      <th>payment_type</th>\n",
       "    </tr>\n",
       "  </thead>\n",
       "  <tbody>\n",
       "    <tr>\n",
       "      <th>26</th>\n",
       "      <td>27</td>\n",
       "      <td>380</td>\n",
       "      <td>2023-01-01</td>\n",
       "      <td>61963</td>\n",
       "      <td>Shopify</td>\n",
       "      <td>Beauty &amp; Personal Care</td>\n",
       "      <td>Credit Card</td>\n",
       "    </tr>\n",
       "    <tr>\n",
       "      <th>49</th>\n",
       "      <td>50</td>\n",
       "      <td>287</td>\n",
       "      <td>2023-01-01</td>\n",
       "      <td>57869</td>\n",
       "      <td>Amazon</td>\n",
       "      <td>Toys &amp; Games</td>\n",
       "      <td>Gpay</td>\n",
       "    </tr>\n",
       "    <tr>\n",
       "      <th>94</th>\n",
       "      <td>95</td>\n",
       "      <td>770</td>\n",
       "      <td>2023-01-01</td>\n",
       "      <td>52881</td>\n",
       "      <td>Ebay</td>\n",
       "      <td>Kitchen Appliances</td>\n",
       "      <td>Credit Card</td>\n",
       "    </tr>\n",
       "    <tr>\n",
       "      <th>104</th>\n",
       "      <td>105</td>\n",
       "      <td>549</td>\n",
       "      <td>2023-01-01</td>\n",
       "      <td>58574</td>\n",
       "      <td>Flipkart</td>\n",
       "      <td>Fashion &amp; Apparel</td>\n",
       "      <td>Gpay</td>\n",
       "    </tr>\n",
       "    <tr>\n",
       "      <th>113</th>\n",
       "      <td>114</td>\n",
       "      <td>790</td>\n",
       "      <td>2023-01-01</td>\n",
       "      <td>51669</td>\n",
       "      <td>Shopify</td>\n",
       "      <td>Kitchen Appliances</td>\n",
       "      <td>Credit Card</td>\n",
       "    </tr>\n",
       "    <tr>\n",
       "      <th>...</th>\n",
       "      <td>...</td>\n",
       "      <td>...</td>\n",
       "      <td>...</td>\n",
       "      <td>...</td>\n",
       "      <td>...</td>\n",
       "      <td>...</td>\n",
       "      <td>...</td>\n",
       "    </tr>\n",
       "    <tr>\n",
       "      <th>499742</th>\n",
       "      <td>499743</td>\n",
       "      <td>868</td>\n",
       "      <td>2023-09-05</td>\n",
       "      <td>55131</td>\n",
       "      <td>Meesho</td>\n",
       "      <td>Fashion &amp; Apparel</td>\n",
       "      <td>Gpay</td>\n",
       "    </tr>\n",
       "    <tr>\n",
       "      <th>499888</th>\n",
       "      <td>499889</td>\n",
       "      <td>614</td>\n",
       "      <td>2023-09-05</td>\n",
       "      <td>59679</td>\n",
       "      <td>Meesho</td>\n",
       "      <td>Fashion &amp; Apparel</td>\n",
       "      <td>Net Banking</td>\n",
       "    </tr>\n",
       "    <tr>\n",
       "      <th>499900</th>\n",
       "      <td>499901</td>\n",
       "      <td>811</td>\n",
       "      <td>2023-09-05</td>\n",
       "      <td>60184</td>\n",
       "      <td>Flipkart</td>\n",
       "      <td>Sports</td>\n",
       "      <td>Debit Card</td>\n",
       "    </tr>\n",
       "    <tr>\n",
       "      <th>499966</th>\n",
       "      <td>499967</td>\n",
       "      <td>662</td>\n",
       "      <td>2023-09-05</td>\n",
       "      <td>54678</td>\n",
       "      <td>Meesho</td>\n",
       "      <td>Sports</td>\n",
       "      <td>Gpay</td>\n",
       "    </tr>\n",
       "    <tr>\n",
       "      <th>499996</th>\n",
       "      <td>499997</td>\n",
       "      <td>569</td>\n",
       "      <td>2023-09-05</td>\n",
       "      <td>53022</td>\n",
       "      <td>Meesho</td>\n",
       "      <td>Fashion &amp; Apparel</td>\n",
       "      <td>Net Banking</td>\n",
       "    </tr>\n",
       "  </tbody>\n",
       "</table>\n",
       "<p>25000 rows × 7 columns</p>\n",
       "</div>"
      ],
      "text/plain": [
       "        tran_id  cust_id   tran_date  tran_amount  platform  \\\n",
       "26           27      380  2023-01-01        61963   Shopify   \n",
       "49           50      287  2023-01-01        57869    Amazon   \n",
       "94           95      770  2023-01-01        52881      Ebay   \n",
       "104         105      549  2023-01-01        58574  Flipkart   \n",
       "113         114      790  2023-01-01        51669   Shopify   \n",
       "...         ...      ...         ...          ...       ...   \n",
       "499742   499743      868  2023-09-05        55131    Meesho   \n",
       "499888   499889      614  2023-09-05        59679    Meesho   \n",
       "499900   499901      811  2023-09-05        60184  Flipkart   \n",
       "499966   499967      662  2023-09-05        54678    Meesho   \n",
       "499996   499997      569  2023-09-05        53022    Meesho   \n",
       "\n",
       "              product_category payment_type  \n",
       "26      Beauty & Personal Care  Credit Card  \n",
       "49                Toys & Games         Gpay  \n",
       "94          Kitchen Appliances  Credit Card  \n",
       "104          Fashion & Apparel         Gpay  \n",
       "113         Kitchen Appliances  Credit Card  \n",
       "...                        ...          ...  \n",
       "499742       Fashion & Apparel         Gpay  \n",
       "499888       Fashion & Apparel  Net Banking  \n",
       "499900                  Sports   Debit Card  \n",
       "499966                  Sports         Gpay  \n",
       "499996       Fashion & Apparel  Net Banking  \n",
       "\n",
       "[25000 rows x 7 columns]"
      ]
     },
     "execution_count": 97,
     "metadata": {},
     "output_type": "execute_result"
    }
   ],
   "source": [
    "df_trans.loc[df_trans_outlier.index]"
   ]
  },
  {
   "cell_type": "code",
   "execution_count": 98,
   "id": "f4f46311-8b36-4d29-a4ab-6c26a1b1943f",
   "metadata": {},
   "outputs": [
    {
     "name": "stderr",
     "output_type": "stream",
     "text": [
      "/var/folders/gn/msf4ty3s5j30lw19_2_v3dq40000gn/T/ipykernel_11265/904439668.py:2: FutureWarning: Setting an item of incompatible dtype is deprecated and will raise an error in a future version of pandas. Value '[ 92.16720517  50.33329759 176.77328782 ... 269.18163136 269.18163136\n",
      "  64.55346325]' has dtype incompatible with int64, please explicitly cast to a compatible dtype first.\n",
      "  df_trans.loc[df_trans_outlier.index, 'tran_amount'] = df_trans_outlier['product_category'].map(df_trans_noraml_mean)\n"
     ]
    }
   ],
   "source": [
    "# Replacing outliers with mean df_trans_noraml\n",
    "df_trans.loc[df_trans_outlier.index, 'tran_amount'] = df_trans_outlier['product_category'].map(df_trans_noraml_mean)"
   ]
  },
  {
   "cell_type": "code",
   "execution_count": 99,
   "id": "6fe98077-f6c6-4e7e-a5ca-bdaf13b7854a",
   "metadata": {},
   "outputs": [
    {
     "data": {
      "text/plain": [
       "<Axes: xlabel='tran_amount', ylabel='Count'>"
      ]
     },
     "execution_count": 99,
     "metadata": {},
     "output_type": "execute_result"
    },
    {
     "data": {
      "image/png": "[encoded data removed]",
      "text/plain": [
       "<Figure size 640x480 with 1 Axes>"
      ]
     },
     "metadata": {},
     "output_type": "display_data"
    }
   ],
   "source": [
    "sns.histplot(df_trans[df_trans.tran_amount<1000].tran_amount,bins=20,kde=True)"
   ]
  },
  {
   "cell_type": "code",
   "execution_count": 100,
   "id": "cee408ed-daf7-4021-9292-8672cf071e9a",
   "metadata": {},
   "outputs": [],
   "source": [
    "# AS we can see now it's look much better"
   ]
  },
  {
   "cell_type": "markdown",
   "id": "6eb59029-4903-4de2-b6e4-267870b55304",
   "metadata": {},
   "source": [
    "Visulization"
   ]
  },
  {
   "cell_type": "code",
   "execution_count": 102,
   "id": "15772f0b-d481-4fc3-aa7c-ed1df3cddb6f",
   "metadata": {},
   "outputs": [
    {
     "data": {
      "text/plain": [
       "<Axes: xlabel='payment_type', ylabel='count'>"
      ]
     },
     "execution_count": 102,
     "metadata": {},
     "output_type": "execute_result"
    },
    {
     "data": {
      "image/png": "[encoded data removed]",
      "text/plain": [
       "<Figure size 640x480 with 1 Axes>"
      ]
     },
     "metadata": {},
     "output_type": "display_data"
    }
   ],
   "source": [
    "sns.countplot(x=df_trans.payment_type)"
   ]
  },
  {
   "cell_type": "code",
   "execution_count": 103,
   "id": "b0bab88a-a455-442b-a43a-a99513033d09",
   "metadata": {},
   "outputs": [],
   "source": [
    "# We have to distribute payment methods as age category so let's merge transaction and customer data"
   ]
  },
  {
   "cell_type": "code",
   "execution_count": 104,
   "id": "c5da246a-9b10-4d1a-aa2d-7458924dd019",
   "metadata": {},
   "outputs": [
    {
     "data": {
      "text/plain": [
       "(500000, 7)"
      ]
     },
     "execution_count": 104,
     "metadata": {},
     "output_type": "execute_result"
    }
   ],
   "source": [
    "df_trans.shape"
   ]
  },
  {
   "cell_type": "code",
   "execution_count": 105,
   "id": "b252c2b1-840f-44fe-90e1-48078dad2a51",
   "metadata": {},
   "outputs": [
    {
     "data": {
      "text/plain": [
       "(1004, 14)"
      ]
     },
     "execution_count": 105,
     "metadata": {},
     "output_type": "execute_result"
    }
   ],
   "source": [
    "df_merged.shape"
   ]
  },
  {
   "cell_type": "code",
   "execution_count": 106,
   "id": "335502b8-3680-41f0-9ba7-70ec7d5f1b25",
   "metadata": {},
   "outputs": [
    {
     "data": {
      "text/html": [
       "<div>\n",
       "<style scoped>\n",
       "    .dataframe tbody tr th:only-of-type {\n",
       "        vertical-align: middle;\n",
       "    }\n",
       "\n",
       "    .dataframe tbody tr th {\n",
       "        vertical-align: top;\n",
       "    }\n",
       "\n",
       "    .dataframe thead th {\n",
       "        text-align: right;\n",
       "    }\n",
       "</style>\n",
       "<table border=\"1\" class=\"dataframe\">\n",
       "  <thead>\n",
       "    <tr style=\"text-align: right;\">\n",
       "      <th></th>\n",
       "      <th>cust_id</th>\n",
       "      <th>name</th>\n",
       "      <th>gender</th>\n",
       "      <th>age</th>\n",
       "      <th>location</th>\n",
       "      <th>occupation</th>\n",
       "      <th>annual_income</th>\n",
       "      <th>marital_status</th>\n",
       "      <th>age_group</th>\n",
       "      <th>credit_score</th>\n",
       "      <th>credit_utilisation</th>\n",
       "      <th>outstanding_debt</th>\n",
       "      <th>credit_inquiries_last_6_months</th>\n",
       "      <th>credit_limit</th>\n",
       "      <th>tran_id</th>\n",
       "      <th>tran_date</th>\n",
       "      <th>tran_amount</th>\n",
       "      <th>platform</th>\n",
       "      <th>product_category</th>\n",
       "      <th>payment_type</th>\n",
       "    </tr>\n",
       "  </thead>\n",
       "  <tbody>\n",
       "    <tr>\n",
       "      <th>0</th>\n",
       "      <td>1</td>\n",
       "      <td>Manya Acharya</td>\n",
       "      <td>Female</td>\n",
       "      <td>51.0</td>\n",
       "      <td>City</td>\n",
       "      <td>Business Owner</td>\n",
       "      <td>358211.0</td>\n",
       "      <td>Married</td>\n",
       "      <td>49-65</td>\n",
       "      <td>749</td>\n",
       "      <td>0.585171</td>\n",
       "      <td>19571.0</td>\n",
       "      <td>0.0</td>\n",
       "      <td>40000.0</td>\n",
       "      <td>1283</td>\n",
       "      <td>2023-01-01</td>\n",
       "      <td>30.0</td>\n",
       "      <td>Shopify</td>\n",
       "      <td>Fashion &amp; Apparel</td>\n",
       "      <td>Net Banking</td>\n",
       "    </tr>\n",
       "    <tr>\n",
       "      <th>1</th>\n",
       "      <td>1</td>\n",
       "      <td>Manya Acharya</td>\n",
       "      <td>Female</td>\n",
       "      <td>51.0</td>\n",
       "      <td>City</td>\n",
       "      <td>Business Owner</td>\n",
       "      <td>358211.0</td>\n",
       "      <td>Married</td>\n",
       "      <td>49-65</td>\n",
       "      <td>749</td>\n",
       "      <td>0.585171</td>\n",
       "      <td>19571.0</td>\n",
       "      <td>0.0</td>\n",
       "      <td>40000.0</td>\n",
       "      <td>1382</td>\n",
       "      <td>2023-01-01</td>\n",
       "      <td>96.0</td>\n",
       "      <td>Amazon</td>\n",
       "      <td>Sports</td>\n",
       "      <td>Debit Card</td>\n",
       "    </tr>\n",
       "    <tr>\n",
       "      <th>2</th>\n",
       "      <td>1</td>\n",
       "      <td>Manya Acharya</td>\n",
       "      <td>Female</td>\n",
       "      <td>51.0</td>\n",
       "      <td>City</td>\n",
       "      <td>Business Owner</td>\n",
       "      <td>358211.0</td>\n",
       "      <td>Married</td>\n",
       "      <td>49-65</td>\n",
       "      <td>749</td>\n",
       "      <td>0.585171</td>\n",
       "      <td>19571.0</td>\n",
       "      <td>0.0</td>\n",
       "      <td>40000.0</td>\n",
       "      <td>1521</td>\n",
       "      <td>2023-01-01</td>\n",
       "      <td>86.0</td>\n",
       "      <td>Meesho</td>\n",
       "      <td>Garden &amp; Outdoor</td>\n",
       "      <td>Gpay</td>\n",
       "    </tr>\n",
       "    <tr>\n",
       "      <th>3</th>\n",
       "      <td>1</td>\n",
       "      <td>Manya Acharya</td>\n",
       "      <td>Female</td>\n",
       "      <td>51.0</td>\n",
       "      <td>City</td>\n",
       "      <td>Business Owner</td>\n",
       "      <td>358211.0</td>\n",
       "      <td>Married</td>\n",
       "      <td>49-65</td>\n",
       "      <td>749</td>\n",
       "      <td>0.585171</td>\n",
       "      <td>19571.0</td>\n",
       "      <td>0.0</td>\n",
       "      <td>40000.0</td>\n",
       "      <td>1576</td>\n",
       "      <td>2023-01-01</td>\n",
       "      <td>149.0</td>\n",
       "      <td>Amazon</td>\n",
       "      <td>Beauty &amp; Personal Care</td>\n",
       "      <td>Phonepe</td>\n",
       "    </tr>\n",
       "    <tr>\n",
       "      <th>4</th>\n",
       "      <td>1</td>\n",
       "      <td>Manya Acharya</td>\n",
       "      <td>Female</td>\n",
       "      <td>51.0</td>\n",
       "      <td>City</td>\n",
       "      <td>Business Owner</td>\n",
       "      <td>358211.0</td>\n",
       "      <td>Married</td>\n",
       "      <td>49-65</td>\n",
       "      <td>749</td>\n",
       "      <td>0.585171</td>\n",
       "      <td>19571.0</td>\n",
       "      <td>0.0</td>\n",
       "      <td>40000.0</td>\n",
       "      <td>1757</td>\n",
       "      <td>2023-01-01</td>\n",
       "      <td>37.0</td>\n",
       "      <td>Flipkart</td>\n",
       "      <td>Fashion &amp; Apparel</td>\n",
       "      <td>Credit Card</td>\n",
       "    </tr>\n",
       "  </tbody>\n",
       "</table>\n",
       "</div>"
      ],
      "text/plain": [
       "   cust_id           name  gender   age location      occupation  \\\n",
       "0        1  Manya Acharya  Female  51.0     City  Business Owner   \n",
       "1        1  Manya Acharya  Female  51.0     City  Business Owner   \n",
       "2        1  Manya Acharya  Female  51.0     City  Business Owner   \n",
       "3        1  Manya Acharya  Female  51.0     City  Business Owner   \n",
       "4        1  Manya Acharya  Female  51.0     City  Business Owner   \n",
       "\n",
       "   annual_income marital_status age_group  credit_score  credit_utilisation  \\\n",
       "0       358211.0        Married     49-65           749            0.585171   \n",
       "1       358211.0        Married     49-65           749            0.585171   \n",
       "2       358211.0        Married     49-65           749            0.585171   \n",
       "3       358211.0        Married     49-65           749            0.585171   \n",
       "4       358211.0        Married     49-65           749            0.585171   \n",
       "\n",
       "   outstanding_debt  credit_inquiries_last_6_months  credit_limit  tran_id  \\\n",
       "0           19571.0                             0.0       40000.0     1283   \n",
       "1           19571.0                             0.0       40000.0     1382   \n",
       "2           19571.0                             0.0       40000.0     1521   \n",
       "3           19571.0                             0.0       40000.0     1576   \n",
       "4           19571.0                             0.0       40000.0     1757   \n",
       "\n",
       "    tran_date  tran_amount  platform        product_category payment_type  \n",
       "0  2023-01-01         30.0   Shopify       Fashion & Apparel  Net Banking  \n",
       "1  2023-01-01         96.0    Amazon                  Sports   Debit Card  \n",
       "2  2023-01-01         86.0    Meesho        Garden & Outdoor         Gpay  \n",
       "3  2023-01-01        149.0    Amazon  Beauty & Personal Care      Phonepe  \n",
       "4  2023-01-01         37.0  Flipkart       Fashion & Apparel  Credit Card  "
      ]
     },
     "execution_count": 106,
     "metadata": {},
     "output_type": "execute_result"
    }
   ],
   "source": [
    "df_merged2=pd.merge(df_merged,df_trans,on=\"cust_id\",how=\"inner\")\n",
    "df_merged2.head()"
   ]
  },
  {
   "cell_type": "code",
   "execution_count": 107,
   "id": "1cf1b946-378f-404e-b419-a65cb6e4654c",
   "metadata": {},
   "outputs": [
    {
     "data": {
      "text/plain": [
       "(502079, 20)"
      ]
     },
     "execution_count": 107,
     "metadata": {},
     "output_type": "execute_result"
    }
   ],
   "source": [
    "df_merged2.shape"
   ]
  },
  {
   "cell_type": "code",
   "execution_count": 210,
   "id": "db791d65-ad0a-47a4-a413-2315a310a380",
   "metadata": {},
   "outputs": [
    {
     "data": {
      "text/plain": [
       "<Axes: xlabel='age_group', ylabel='count'>"
      ]
     },
     "execution_count": 210,
     "metadata": {},
     "output_type": "execute_result"
    },
    {
     "data": {
      "image/png": "[encoded data removed]",
      "text/plain": [
       "<Figure size 640x480 with 1 Axes>"
      ]
     },
     "metadata": {},
     "output_type": "display_data"
    }
   ],
   "source": []
  },
  {
   "cell_type": "code",
   "execution_count": 220,
   "id": "837903ee-8933-4f68-b9d1-d65308f07075",
   "metadata": {},
   "outputs": [
    {
     "data": {
      "text/plain": [
       "<Axes: xlabel='age_group', ylabel='count'>"
      ]
     },
     "execution_count": 220,
     "metadata": {},
     "output_type": "execute_result"
    },
    {
     "data": {
      "image/png": "[encoded data removed]",
      "text/plain": [
       "<Figure size 640x480 with 1 Axes>"
      ]
     },
     "metadata": {},
     "output_type": "display_data"
    }
   ],
   "source": [
    "\n",
    "sns.countplot(x='age_group',hue='platform',data=df_merged2)"
   ]
  },
  {
   "cell_type": "code",
   "execution_count": 224,
   "id": "fd9b95ae-f0ea-4ed4-a3b8-c3ea638db4fe",
   "metadata": {},
   "outputs": [
    {
     "data": {
      "image/png": "[encoded data removed]",
      "text/plain": [
       "<Figure size 1600x800 with 2 Axes>"
      ]
     },
     "metadata": {},
     "output_type": "display_data"
    }
   ],
   "source": [
    "# Create subplots with 1 row and 2 columns\n",
    "fig, axes = plt.subplots(1, 2, figsize=(16, 8))\n",
    "\n",
    "# Plot the first countplot on the first subplot\n",
    "sns.countplot(x='age_group', hue='payment_type', data=df_merged2, ax=axes[0])\n",
    "axes[0].set_title('Count of Payment Types by Age Group')\n",
    "axes[0].set_xlabel('Age Group')\n",
    "axes[0].set_ylabel('Count')\n",
    "\n",
    "# Plot the second countplot on the second subplot\n",
    "sns.countplot(x='age_group', hue='platform', data=df_merged2, ax=axes[1])\n",
    "axes[1].set_title('Count of Platform Usage by Age Group')\n",
    "axes[1].set_xlabel('Age Group')\n",
    "axes[1].set_ylabel('Count')\n",
    "\n",
    "# Adjust layout\n",
    "plt.tight_layout()\n",
    "plt.show()\n"
   ]
  },
  {
   "cell_type": "code",
   "execution_count": null,
   "id": "de5f3ab2-6b5a-4f0d-b607-d2cfa5eaaabf",
   "metadata": {},
   "outputs": [],
   "source": []
  }
 ],
 "metadata": {
  "kernelspec": {
   "display_name": "Python 3 (ipykernel)",
   "language": "python",
   "name": "python3"
  },
  "language_info": {
   "codemirror_mode": {
    "name": "ipython",
    "version": 3
   },
   "file_extension": ".py",
   "mimetype": "text/x-python",
   "name": "python",
   "nbconvert_exporter": "python",
   "pygments_lexer": "ipython3",
   "version": "3.12.2"
  }
 },
 "nbformat": 4,
 "nbformat_minor": 5
}
